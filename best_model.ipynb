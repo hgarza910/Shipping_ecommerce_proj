{
 "cells": [
  {
   "cell_type": "markdown",
   "source": [
    "# Evaluating best performing model - XGBoost"
   ],
   "metadata": {
    "collapsed": false
   }
  },
  {
   "cell_type": "markdown",
   "source": [
    "## Given the Shipping E-commerce Sales data can we predict if the package will arrive on time?"
   ],
   "metadata": {
    "collapsed": false
   }
  },
  {
   "cell_type": "code",
   "execution_count": 20,
   "outputs": [],
   "source": [
    "import pandas as pd\n",
    "import matplotlib.pyplot as plt\n",
    "from sklearn.metrics import accuracy_score\n",
    "from sklearn.model_selection import train_test_split\n",
    "from xgboost import XGBClassifier\n",
    "import numpy as np"
   ],
   "metadata": {
    "collapsed": false
   }
  },
  {
   "cell_type": "code",
   "execution_count": 21,
   "outputs": [],
   "source": [
    "df = pd.read_csv(\"shipping_ecommerce.csv\")\n",
    "df_model = df\n",
    "df_dum = pd.get_dummies(df_model)"
   ],
   "metadata": {
    "collapsed": false
   }
  },
  {
   "cell_type": "code",
   "execution_count": 22,
   "outputs": [
    {
     "data": {
      "text/plain": "   Customer_care_calls  Customer_rating  Prior_purchases  Discount_offered  \\\n0                    5                4                2                10   \n1                    4                3                2                 6   \n2                    3                4                2                 2   \n3                    3                1                2                27   \n4                    7                5                4                 9   \n\n   Weight_in_gms  Class  Warehouse_block_A  Warehouse_block_B  \\\n0           5395      1                  1                  0   \n1           5867      0                  0                  0   \n2           5957      0                  0                  0   \n3           2551      1                  0                  0   \n4           1329      1                  0                  1   \n\n   Warehouse_block_C  Warehouse_block_D  Warehouse_block_F  \\\n0                  0                  0                  0   \n1                  0                  0                  1   \n2                  0                  1                  0   \n3                  0                  1                  0   \n4                  0                  0                  0   \n\n   Mode_of_Shipment_Flight  Mode_of_Shipment_Road  Mode_of_Shipment_Ship  \\\n0                        0                      0                      1   \n1                        0                      0                      1   \n2                        0                      0                      1   \n3                        0                      0                      1   \n4                        0                      0                      1   \n\n   Product_importance_high  Product_importance_low  Product_importance_medium  \\\n0                        0                       0                          1   \n1                        0                       0                          1   \n2                        0                       0                          1   \n3                        0                       0                          1   \n4                        0                       0                          1   \n\n   Gender_F  Gender_M  \n0         0         1  \n1         1         0  \n2         0         1  \n3         0         1  \n4         0         1  ",
      "text/html": "<div>\n<style scoped>\n    .dataframe tbody tr th:only-of-type {\n        vertical-align: middle;\n    }\n\n    .dataframe tbody tr th {\n        vertical-align: top;\n    }\n\n    .dataframe thead th {\n        text-align: right;\n    }\n</style>\n<table border=\"1\" class=\"dataframe\">\n  <thead>\n    <tr style=\"text-align: right;\">\n      <th></th>\n      <th>Customer_care_calls</th>\n      <th>Customer_rating</th>\n      <th>Prior_purchases</th>\n      <th>Discount_offered</th>\n      <th>Weight_in_gms</th>\n      <th>Class</th>\n      <th>Warehouse_block_A</th>\n      <th>Warehouse_block_B</th>\n      <th>Warehouse_block_C</th>\n      <th>Warehouse_block_D</th>\n      <th>Warehouse_block_F</th>\n      <th>Mode_of_Shipment_Flight</th>\n      <th>Mode_of_Shipment_Road</th>\n      <th>Mode_of_Shipment_Ship</th>\n      <th>Product_importance_high</th>\n      <th>Product_importance_low</th>\n      <th>Product_importance_medium</th>\n      <th>Gender_F</th>\n      <th>Gender_M</th>\n    </tr>\n  </thead>\n  <tbody>\n    <tr>\n      <th>0</th>\n      <td>5</td>\n      <td>4</td>\n      <td>2</td>\n      <td>10</td>\n      <td>5395</td>\n      <td>1</td>\n      <td>1</td>\n      <td>0</td>\n      <td>0</td>\n      <td>0</td>\n      <td>0</td>\n      <td>0</td>\n      <td>0</td>\n      <td>1</td>\n      <td>0</td>\n      <td>0</td>\n      <td>1</td>\n      <td>0</td>\n      <td>1</td>\n    </tr>\n    <tr>\n      <th>1</th>\n      <td>4</td>\n      <td>3</td>\n      <td>2</td>\n      <td>6</td>\n      <td>5867</td>\n      <td>0</td>\n      <td>0</td>\n      <td>0</td>\n      <td>0</td>\n      <td>0</td>\n      <td>1</td>\n      <td>0</td>\n      <td>0</td>\n      <td>1</td>\n      <td>0</td>\n      <td>0</td>\n      <td>1</td>\n      <td>1</td>\n      <td>0</td>\n    </tr>\n    <tr>\n      <th>2</th>\n      <td>3</td>\n      <td>4</td>\n      <td>2</td>\n      <td>2</td>\n      <td>5957</td>\n      <td>0</td>\n      <td>0</td>\n      <td>0</td>\n      <td>0</td>\n      <td>1</td>\n      <td>0</td>\n      <td>0</td>\n      <td>0</td>\n      <td>1</td>\n      <td>0</td>\n      <td>0</td>\n      <td>1</td>\n      <td>0</td>\n      <td>1</td>\n    </tr>\n    <tr>\n      <th>3</th>\n      <td>3</td>\n      <td>1</td>\n      <td>2</td>\n      <td>27</td>\n      <td>2551</td>\n      <td>1</td>\n      <td>0</td>\n      <td>0</td>\n      <td>0</td>\n      <td>1</td>\n      <td>0</td>\n      <td>0</td>\n      <td>0</td>\n      <td>1</td>\n      <td>0</td>\n      <td>0</td>\n      <td>1</td>\n      <td>0</td>\n      <td>1</td>\n    </tr>\n    <tr>\n      <th>4</th>\n      <td>7</td>\n      <td>5</td>\n      <td>4</td>\n      <td>9</td>\n      <td>1329</td>\n      <td>1</td>\n      <td>0</td>\n      <td>1</td>\n      <td>0</td>\n      <td>0</td>\n      <td>0</td>\n      <td>0</td>\n      <td>0</td>\n      <td>1</td>\n      <td>0</td>\n      <td>0</td>\n      <td>1</td>\n      <td>0</td>\n      <td>1</td>\n    </tr>\n  </tbody>\n</table>\n</div>"
     },
     "execution_count": 22,
     "metadata": {},
     "output_type": "execute_result"
    }
   ],
   "source": [
    "df_dum.head()"
   ],
   "metadata": {
    "collapsed": false
   }
  },
  {
   "cell_type": "code",
   "execution_count": 23,
   "outputs": [
    {
     "data": {
      "text/plain": "Customer_care_calls          float64\nCustomer_rating              float64\nPrior_purchases              float64\nDiscount_offered             float64\nWeight_in_gms                float64\nClass                        float64\nWarehouse_block_A            float64\nWarehouse_block_B            float64\nWarehouse_block_C            float64\nWarehouse_block_D            float64\nWarehouse_block_F            float64\nMode_of_Shipment_Flight      float64\nMode_of_Shipment_Road        float64\nMode_of_Shipment_Ship        float64\nProduct_importance_high      float64\nProduct_importance_low       float64\nProduct_importance_medium    float64\nGender_F                     float64\nGender_M                     float64\ndtype: object"
     },
     "execution_count": 23,
     "metadata": {},
     "output_type": "execute_result"
    }
   ],
   "source": [
    "df_dum.astype('float64').dtypes"
   ],
   "metadata": {
    "collapsed": false
   }
  },
  {
   "cell_type": "code",
   "execution_count": 24,
   "outputs": [
    {
     "data": {
      "text/plain": "                             count         mean          std     min      25%  \\\nCustomer_care_calls        10998.0     4.054555     1.141497     2.0     3.00   \nCustomer_rating            10998.0     2.990453     1.413635     1.0     2.00   \nPrior_purchases            10998.0     3.567558     1.522924     2.0     3.00   \nDiscount_offered           10998.0    13.373704    16.206183     1.0     4.00   \nWeight_in_gms              10998.0  3633.873522  1635.382636  1001.0  1839.25   \nClass                      10998.0     0.596745     0.490573     0.0     0.00   \nWarehouse_block_A          10998.0     0.166576     0.372614     0.0     0.00   \nWarehouse_block_B          10998.0     0.166667     0.372695     0.0     0.00   \nWarehouse_block_C          10998.0     0.166667     0.372695     0.0     0.00   \nWarehouse_block_D          10998.0     0.166758     0.372776     0.0     0.00   \nWarehouse_block_F          10998.0     0.333333     0.471426     0.0     0.00   \nMode_of_Shipment_Flight    10998.0     0.161575     0.368077     0.0     0.00   \nMode_of_Shipment_Road      10998.0     0.160029     0.366650     0.0     0.00   \nMode_of_Shipment_Ship      10998.0     0.678396     0.467113     0.0     0.00   \nProduct_importance_high    10998.0     0.086197     0.280668     0.0     0.00   \nProduct_importance_low     10998.0     0.481542     0.499682     0.0     0.00   \nProduct_importance_medium  10998.0     0.432260     0.495413     0.0     0.00   \nGender_F                   10998.0     0.504092     0.500006     0.0     0.00   \nGender_M                   10998.0     0.495908     0.500006     0.0     0.00   \n\n                              50%      75%     max  \nCustomer_care_calls           4.0     5.00     7.0  \nCustomer_rating               3.0     4.00     5.0  \nPrior_purchases               3.0     4.00    10.0  \nDiscount_offered              7.0    10.00    65.0  \nWeight_in_gms              4149.0  5049.75  7846.0  \nClass                         1.0     1.00     1.0  \nWarehouse_block_A             0.0     0.00     1.0  \nWarehouse_block_B             0.0     0.00     1.0  \nWarehouse_block_C             0.0     0.00     1.0  \nWarehouse_block_D             0.0     0.00     1.0  \nWarehouse_block_F             0.0     1.00     1.0  \nMode_of_Shipment_Flight       0.0     0.00     1.0  \nMode_of_Shipment_Road         0.0     0.00     1.0  \nMode_of_Shipment_Ship         1.0     1.00     1.0  \nProduct_importance_high       0.0     0.00     1.0  \nProduct_importance_low        0.0     1.00     1.0  \nProduct_importance_medium     0.0     1.00     1.0  \nGender_F                      1.0     1.00     1.0  \nGender_M                      0.0     1.00     1.0  ",
      "text/html": "<div>\n<style scoped>\n    .dataframe tbody tr th:only-of-type {\n        vertical-align: middle;\n    }\n\n    .dataframe tbody tr th {\n        vertical-align: top;\n    }\n\n    .dataframe thead th {\n        text-align: right;\n    }\n</style>\n<table border=\"1\" class=\"dataframe\">\n  <thead>\n    <tr style=\"text-align: right;\">\n      <th></th>\n      <th>count</th>\n      <th>mean</th>\n      <th>std</th>\n      <th>min</th>\n      <th>25%</th>\n      <th>50%</th>\n      <th>75%</th>\n      <th>max</th>\n    </tr>\n  </thead>\n  <tbody>\n    <tr>\n      <th>Customer_care_calls</th>\n      <td>10998.0</td>\n      <td>4.054555</td>\n      <td>1.141497</td>\n      <td>2.0</td>\n      <td>3.00</td>\n      <td>4.0</td>\n      <td>5.00</td>\n      <td>7.0</td>\n    </tr>\n    <tr>\n      <th>Customer_rating</th>\n      <td>10998.0</td>\n      <td>2.990453</td>\n      <td>1.413635</td>\n      <td>1.0</td>\n      <td>2.00</td>\n      <td>3.0</td>\n      <td>4.00</td>\n      <td>5.0</td>\n    </tr>\n    <tr>\n      <th>Prior_purchases</th>\n      <td>10998.0</td>\n      <td>3.567558</td>\n      <td>1.522924</td>\n      <td>2.0</td>\n      <td>3.00</td>\n      <td>3.0</td>\n      <td>4.00</td>\n      <td>10.0</td>\n    </tr>\n    <tr>\n      <th>Discount_offered</th>\n      <td>10998.0</td>\n      <td>13.373704</td>\n      <td>16.206183</td>\n      <td>1.0</td>\n      <td>4.00</td>\n      <td>7.0</td>\n      <td>10.00</td>\n      <td>65.0</td>\n    </tr>\n    <tr>\n      <th>Weight_in_gms</th>\n      <td>10998.0</td>\n      <td>3633.873522</td>\n      <td>1635.382636</td>\n      <td>1001.0</td>\n      <td>1839.25</td>\n      <td>4149.0</td>\n      <td>5049.75</td>\n      <td>7846.0</td>\n    </tr>\n    <tr>\n      <th>Class</th>\n      <td>10998.0</td>\n      <td>0.596745</td>\n      <td>0.490573</td>\n      <td>0.0</td>\n      <td>0.00</td>\n      <td>1.0</td>\n      <td>1.00</td>\n      <td>1.0</td>\n    </tr>\n    <tr>\n      <th>Warehouse_block_A</th>\n      <td>10998.0</td>\n      <td>0.166576</td>\n      <td>0.372614</td>\n      <td>0.0</td>\n      <td>0.00</td>\n      <td>0.0</td>\n      <td>0.00</td>\n      <td>1.0</td>\n    </tr>\n    <tr>\n      <th>Warehouse_block_B</th>\n      <td>10998.0</td>\n      <td>0.166667</td>\n      <td>0.372695</td>\n      <td>0.0</td>\n      <td>0.00</td>\n      <td>0.0</td>\n      <td>0.00</td>\n      <td>1.0</td>\n    </tr>\n    <tr>\n      <th>Warehouse_block_C</th>\n      <td>10998.0</td>\n      <td>0.166667</td>\n      <td>0.372695</td>\n      <td>0.0</td>\n      <td>0.00</td>\n      <td>0.0</td>\n      <td>0.00</td>\n      <td>1.0</td>\n    </tr>\n    <tr>\n      <th>Warehouse_block_D</th>\n      <td>10998.0</td>\n      <td>0.166758</td>\n      <td>0.372776</td>\n      <td>0.0</td>\n      <td>0.00</td>\n      <td>0.0</td>\n      <td>0.00</td>\n      <td>1.0</td>\n    </tr>\n    <tr>\n      <th>Warehouse_block_F</th>\n      <td>10998.0</td>\n      <td>0.333333</td>\n      <td>0.471426</td>\n      <td>0.0</td>\n      <td>0.00</td>\n      <td>0.0</td>\n      <td>1.00</td>\n      <td>1.0</td>\n    </tr>\n    <tr>\n      <th>Mode_of_Shipment_Flight</th>\n      <td>10998.0</td>\n      <td>0.161575</td>\n      <td>0.368077</td>\n      <td>0.0</td>\n      <td>0.00</td>\n      <td>0.0</td>\n      <td>0.00</td>\n      <td>1.0</td>\n    </tr>\n    <tr>\n      <th>Mode_of_Shipment_Road</th>\n      <td>10998.0</td>\n      <td>0.160029</td>\n      <td>0.366650</td>\n      <td>0.0</td>\n      <td>0.00</td>\n      <td>0.0</td>\n      <td>0.00</td>\n      <td>1.0</td>\n    </tr>\n    <tr>\n      <th>Mode_of_Shipment_Ship</th>\n      <td>10998.0</td>\n      <td>0.678396</td>\n      <td>0.467113</td>\n      <td>0.0</td>\n      <td>0.00</td>\n      <td>1.0</td>\n      <td>1.00</td>\n      <td>1.0</td>\n    </tr>\n    <tr>\n      <th>Product_importance_high</th>\n      <td>10998.0</td>\n      <td>0.086197</td>\n      <td>0.280668</td>\n      <td>0.0</td>\n      <td>0.00</td>\n      <td>0.0</td>\n      <td>0.00</td>\n      <td>1.0</td>\n    </tr>\n    <tr>\n      <th>Product_importance_low</th>\n      <td>10998.0</td>\n      <td>0.481542</td>\n      <td>0.499682</td>\n      <td>0.0</td>\n      <td>0.00</td>\n      <td>0.0</td>\n      <td>1.00</td>\n      <td>1.0</td>\n    </tr>\n    <tr>\n      <th>Product_importance_medium</th>\n      <td>10998.0</td>\n      <td>0.432260</td>\n      <td>0.495413</td>\n      <td>0.0</td>\n      <td>0.00</td>\n      <td>0.0</td>\n      <td>1.00</td>\n      <td>1.0</td>\n    </tr>\n    <tr>\n      <th>Gender_F</th>\n      <td>10998.0</td>\n      <td>0.504092</td>\n      <td>0.500006</td>\n      <td>0.0</td>\n      <td>0.00</td>\n      <td>1.0</td>\n      <td>1.00</td>\n      <td>1.0</td>\n    </tr>\n    <tr>\n      <th>Gender_M</th>\n      <td>10998.0</td>\n      <td>0.495908</td>\n      <td>0.500006</td>\n      <td>0.0</td>\n      <td>0.00</td>\n      <td>0.0</td>\n      <td>1.00</td>\n      <td>1.0</td>\n    </tr>\n  </tbody>\n</table>\n</div>"
     },
     "execution_count": 24,
     "metadata": {},
     "output_type": "execute_result"
    }
   ],
   "source": [
    "df_dum.describe().T"
   ],
   "metadata": {
    "collapsed": false
   }
  },
  {
   "cell_type": "code",
   "execution_count": 25,
   "outputs": [],
   "source": [
    "X = df_dum.drop('Class', axis=1)\n",
    "y = df_dum.Class.values\n",
    "X_train, X_test, y_train, y_test = train_test_split(X, y, test_size=.2, random_state=42)"
   ],
   "metadata": {
    "collapsed": false
   }
  },
  {
   "cell_type": "code",
   "execution_count": 26,
   "outputs": [
    {
     "name": "stdout",
     "output_type": "stream",
     "text": [
      "[0]\tvalidation_0-error:0.30314\tvalidation_0-logloss:0.61694\tvalidation_1-error:0.33818\tvalidation_1-logloss:0.62236\n",
      "[1]\tvalidation_0-error:0.29814\tvalidation_0-logloss:0.57388\tvalidation_1-error:0.34182\tvalidation_1-logloss:0.58412\n",
      "[2]\tvalidation_0-error:0.29950\tvalidation_0-logloss:0.54670\tvalidation_1-error:0.32955\tvalidation_1-logloss:0.56101\n",
      "[3]\tvalidation_0-error:0.29677\tvalidation_0-logloss:0.52875\tvalidation_1-error:0.33364\tvalidation_1-logloss:0.54594\n",
      "[4]\tvalidation_0-error:0.28984\tvalidation_0-logloss:0.51503\tvalidation_1-error:0.33773\tvalidation_1-logloss:0.53502\n",
      "[5]\tvalidation_0-error:0.28654\tvalidation_0-logloss:0.50573\tvalidation_1-error:0.33818\tvalidation_1-logloss:0.52837\n",
      "[6]\tvalidation_0-error:0.28506\tvalidation_0-logloss:0.49825\tvalidation_1-error:0.33955\tvalidation_1-logloss:0.52395\n",
      "[7]\tvalidation_0-error:0.27870\tvalidation_0-logloss:0.49148\tvalidation_1-error:0.34182\tvalidation_1-logloss:0.52098\n",
      "[8]\tvalidation_0-error:0.27472\tvalidation_0-logloss:0.48642\tvalidation_1-error:0.33909\tvalidation_1-logloss:0.51842\n",
      "[9]\tvalidation_0-error:0.27245\tvalidation_0-logloss:0.48166\tvalidation_1-error:0.33955\tvalidation_1-logloss:0.51695\n",
      "[10]\tvalidation_0-error:0.27040\tvalidation_0-logloss:0.47781\tvalidation_1-error:0.34000\tvalidation_1-logloss:0.51656\n",
      "[11]\tvalidation_0-error:0.26745\tvalidation_0-logloss:0.47439\tvalidation_1-error:0.33864\tvalidation_1-logloss:0.51592\n",
      "[12]\tvalidation_0-error:0.26483\tvalidation_0-logloss:0.47263\tvalidation_1-error:0.33909\tvalidation_1-logloss:0.51511\n",
      "[13]\tvalidation_0-error:0.26517\tvalidation_0-logloss:0.46939\tvalidation_1-error:0.34273\tvalidation_1-logloss:0.51498\n",
      "[14]\tvalidation_0-error:0.26131\tvalidation_0-logloss:0.46691\tvalidation_1-error:0.34273\tvalidation_1-logloss:0.51456\n",
      "[15]\tvalidation_0-error:0.25699\tvalidation_0-logloss:0.46462\tvalidation_1-error:0.34318\tvalidation_1-logloss:0.51488\n",
      "[16]\tvalidation_0-error:0.25472\tvalidation_0-logloss:0.46274\tvalidation_1-error:0.34273\tvalidation_1-logloss:0.51477\n",
      "[17]\tvalidation_0-error:0.25199\tvalidation_0-logloss:0.46119\tvalidation_1-error:0.34227\tvalidation_1-logloss:0.51487\n",
      "[18]\tvalidation_0-error:0.25199\tvalidation_0-logloss:0.46079\tvalidation_1-error:0.34273\tvalidation_1-logloss:0.51492\n",
      "[19]\tvalidation_0-error:0.25153\tvalidation_0-logloss:0.45970\tvalidation_1-error:0.34227\tvalidation_1-logloss:0.51532\n",
      "[20]\tvalidation_0-error:0.25006\tvalidation_0-logloss:0.45877\tvalidation_1-error:0.34227\tvalidation_1-logloss:0.51580\n",
      "[21]\tvalidation_0-error:0.24710\tvalidation_0-logloss:0.45629\tvalidation_1-error:0.33909\tvalidation_1-logloss:0.51527\n",
      "[22]\tvalidation_0-error:0.24267\tvalidation_0-logloss:0.45433\tvalidation_1-error:0.34045\tvalidation_1-logloss:0.51599\n",
      "[23]\tvalidation_0-error:0.24256\tvalidation_0-logloss:0.45307\tvalidation_1-error:0.34227\tvalidation_1-logloss:0.51640\n",
      "[24]\tvalidation_0-error:0.24233\tvalidation_0-logloss:0.45267\tvalidation_1-error:0.34364\tvalidation_1-logloss:0.51652\n",
      "[25]\tvalidation_0-error:0.24051\tvalidation_0-logloss:0.45191\tvalidation_1-error:0.34364\tvalidation_1-logloss:0.51710\n",
      "[26]\tvalidation_0-error:0.23960\tvalidation_0-logloss:0.45078\tvalidation_1-error:0.34182\tvalidation_1-logloss:0.51772\n",
      "[27]\tvalidation_0-error:0.23926\tvalidation_0-logloss:0.45049\tvalidation_1-error:0.34182\tvalidation_1-logloss:0.51809\n",
      "[28]\tvalidation_0-error:0.23880\tvalidation_0-logloss:0.44896\tvalidation_1-error:0.34318\tvalidation_1-logloss:0.51891\n",
      "[29]\tvalidation_0-error:0.23062\tvalidation_0-logloss:0.44385\tvalidation_1-error:0.34818\tvalidation_1-logloss:0.52034\n",
      "[30]\tvalidation_0-error:0.22710\tvalidation_0-logloss:0.44198\tvalidation_1-error:0.34591\tvalidation_1-logloss:0.52052\n",
      "[31]\tvalidation_0-error:0.22141\tvalidation_0-logloss:0.43842\tvalidation_1-error:0.34727\tvalidation_1-logloss:0.52182\n",
      "[32]\tvalidation_0-error:0.21687\tvalidation_0-logloss:0.43568\tvalidation_1-error:0.34591\tvalidation_1-logloss:0.52355\n",
      "[33]\tvalidation_0-error:0.20925\tvalidation_0-logloss:0.43170\tvalidation_1-error:0.34818\tvalidation_1-logloss:0.52366\n",
      "[34]\tvalidation_0-error:0.20857\tvalidation_0-logloss:0.43048\tvalidation_1-error:0.34955\tvalidation_1-logloss:0.52399\n",
      "[35]\tvalidation_0-error:0.20675\tvalidation_0-logloss:0.42941\tvalidation_1-error:0.35045\tvalidation_1-logloss:0.52515\n",
      "[36]\tvalidation_0-error:0.20482\tvalidation_0-logloss:0.42762\tvalidation_1-error:0.34818\tvalidation_1-logloss:0.52513\n",
      "[37]\tvalidation_0-error:0.20471\tvalidation_0-logloss:0.42734\tvalidation_1-error:0.34773\tvalidation_1-logloss:0.52518\n",
      "[38]\tvalidation_0-error:0.20073\tvalidation_0-logloss:0.42461\tvalidation_1-error:0.34636\tvalidation_1-logloss:0.52627\n",
      "[39]\tvalidation_0-error:0.20073\tvalidation_0-logloss:0.42439\tvalidation_1-error:0.34591\tvalidation_1-logloss:0.52604\n",
      "[40]\tvalidation_0-error:0.19914\tvalidation_0-logloss:0.42201\tvalidation_1-error:0.34773\tvalidation_1-logloss:0.52661\n",
      "[41]\tvalidation_0-error:0.19425\tvalidation_0-logloss:0.41961\tvalidation_1-error:0.34591\tvalidation_1-logloss:0.52685\n",
      "[42]\tvalidation_0-error:0.19379\tvalidation_0-logloss:0.41843\tvalidation_1-error:0.34545\tvalidation_1-logloss:0.52747\n",
      "[43]\tvalidation_0-error:0.19232\tvalidation_0-logloss:0.41768\tvalidation_1-error:0.34636\tvalidation_1-logloss:0.52779\n",
      "[44]\tvalidation_0-error:0.19073\tvalidation_0-logloss:0.41484\tvalidation_1-error:0.34818\tvalidation_1-logloss:0.52832\n",
      "[45]\tvalidation_0-error:0.18607\tvalidation_0-logloss:0.41166\tvalidation_1-error:0.35136\tvalidation_1-logloss:0.52942\n",
      "[46]\tvalidation_0-error:0.18368\tvalidation_0-logloss:0.41018\tvalidation_1-error:0.34909\tvalidation_1-logloss:0.52883\n",
      "[47]\tvalidation_0-error:0.18084\tvalidation_0-logloss:0.40686\tvalidation_1-error:0.34682\tvalidation_1-logloss:0.53035\n",
      "[48]\tvalidation_0-error:0.17913\tvalidation_0-logloss:0.40373\tvalidation_1-error:0.34955\tvalidation_1-logloss:0.53208\n",
      "[49]\tvalidation_0-error:0.17845\tvalidation_0-logloss:0.40348\tvalidation_1-error:0.34909\tvalidation_1-logloss:0.53231\n",
      "[50]\tvalidation_0-error:0.17834\tvalidation_0-logloss:0.40329\tvalidation_1-error:0.34818\tvalidation_1-logloss:0.53223\n",
      "[51]\tvalidation_0-error:0.17720\tvalidation_0-logloss:0.40241\tvalidation_1-error:0.35182\tvalidation_1-logloss:0.53296\n",
      "[52]\tvalidation_0-error:0.17322\tvalidation_0-logloss:0.39915\tvalidation_1-error:0.35591\tvalidation_1-logloss:0.53492\n",
      "[53]\tvalidation_0-error:0.17231\tvalidation_0-logloss:0.39772\tvalidation_1-error:0.35636\tvalidation_1-logloss:0.53531\n",
      "[54]\tvalidation_0-error:0.17004\tvalidation_0-logloss:0.39554\tvalidation_1-error:0.35182\tvalidation_1-logloss:0.53530\n",
      "[55]\tvalidation_0-error:0.16777\tvalidation_0-logloss:0.39437\tvalidation_1-error:0.35182\tvalidation_1-logloss:0.53543\n",
      "[56]\tvalidation_0-error:0.16720\tvalidation_0-logloss:0.39407\tvalidation_1-error:0.35182\tvalidation_1-logloss:0.53568\n",
      "[57]\tvalidation_0-error:0.16731\tvalidation_0-logloss:0.39365\tvalidation_1-error:0.35182\tvalidation_1-logloss:0.53568\n",
      "[58]\tvalidation_0-error:0.16708\tvalidation_0-logloss:0.39321\tvalidation_1-error:0.35136\tvalidation_1-logloss:0.53579\n",
      "[59]\tvalidation_0-error:0.16663\tvalidation_0-logloss:0.39149\tvalidation_1-error:0.35273\tvalidation_1-logloss:0.53703\n",
      "[60]\tvalidation_0-error:0.16595\tvalidation_0-logloss:0.39095\tvalidation_1-error:0.35273\tvalidation_1-logloss:0.53754\n",
      "[61]\tvalidation_0-error:0.16345\tvalidation_0-logloss:0.38933\tvalidation_1-error:0.35364\tvalidation_1-logloss:0.53703\n",
      "[62]\tvalidation_0-error:0.15845\tvalidation_0-logloss:0.38539\tvalidation_1-error:0.35000\tvalidation_1-logloss:0.53807\n",
      "[63]\tvalidation_0-error:0.15879\tvalidation_0-logloss:0.38431\tvalidation_1-error:0.34909\tvalidation_1-logloss:0.53853\n",
      "[64]\tvalidation_0-error:0.15469\tvalidation_0-logloss:0.38134\tvalidation_1-error:0.34955\tvalidation_1-logloss:0.54072\n",
      "[65]\tvalidation_0-error:0.15356\tvalidation_0-logloss:0.38016\tvalidation_1-error:0.34909\tvalidation_1-logloss:0.54064\n",
      "[66]\tvalidation_0-error:0.15299\tvalidation_0-logloss:0.37821\tvalidation_1-error:0.35182\tvalidation_1-logloss:0.54143\n",
      "[67]\tvalidation_0-error:0.15276\tvalidation_0-logloss:0.37779\tvalidation_1-error:0.35000\tvalidation_1-logloss:0.54156\n",
      "[68]\tvalidation_0-error:0.15208\tvalidation_0-logloss:0.37743\tvalidation_1-error:0.34955\tvalidation_1-logloss:0.54188\n",
      "[69]\tvalidation_0-error:0.15208\tvalidation_0-logloss:0.37716\tvalidation_1-error:0.34864\tvalidation_1-logloss:0.54197\n",
      "[70]\tvalidation_0-error:0.15197\tvalidation_0-logloss:0.37704\tvalidation_1-error:0.34955\tvalidation_1-logloss:0.54181\n",
      "[71]\tvalidation_0-error:0.15163\tvalidation_0-logloss:0.37687\tvalidation_1-error:0.34909\tvalidation_1-logloss:0.54172\n",
      "[72]\tvalidation_0-error:0.15038\tvalidation_0-logloss:0.37616\tvalidation_1-error:0.34909\tvalidation_1-logloss:0.54173\n",
      "[73]\tvalidation_0-error:0.14981\tvalidation_0-logloss:0.37555\tvalidation_1-error:0.35045\tvalidation_1-logloss:0.54175\n",
      "[74]\tvalidation_0-error:0.14810\tvalidation_0-logloss:0.37422\tvalidation_1-error:0.35091\tvalidation_1-logloss:0.54230\n",
      "[75]\tvalidation_0-error:0.14606\tvalidation_0-logloss:0.37192\tvalidation_1-error:0.34909\tvalidation_1-logloss:0.54291\n",
      "[76]\tvalidation_0-error:0.14424\tvalidation_0-logloss:0.37057\tvalidation_1-error:0.34818\tvalidation_1-logloss:0.54287\n",
      "[77]\tvalidation_0-error:0.14356\tvalidation_0-logloss:0.36920\tvalidation_1-error:0.34864\tvalidation_1-logloss:0.54365\n",
      "[78]\tvalidation_0-error:0.14231\tvalidation_0-logloss:0.36699\tvalidation_1-error:0.34636\tvalidation_1-logloss:0.54358\n",
      "[79]\tvalidation_0-error:0.14140\tvalidation_0-logloss:0.36594\tvalidation_1-error:0.34682\tvalidation_1-logloss:0.54396\n",
      "[80]\tvalidation_0-error:0.14015\tvalidation_0-logloss:0.36466\tvalidation_1-error:0.34773\tvalidation_1-logloss:0.54539\n",
      "[81]\tvalidation_0-error:0.14026\tvalidation_0-logloss:0.36432\tvalidation_1-error:0.34955\tvalidation_1-logloss:0.54597\n",
      "[82]\tvalidation_0-error:0.13708\tvalidation_0-logloss:0.36185\tvalidation_1-error:0.35136\tvalidation_1-logloss:0.54713\n",
      "[83]\tvalidation_0-error:0.13639\tvalidation_0-logloss:0.36072\tvalidation_1-error:0.35182\tvalidation_1-logloss:0.54676\n",
      "[84]\tvalidation_0-error:0.13617\tvalidation_0-logloss:0.35906\tvalidation_1-error:0.34909\tvalidation_1-logloss:0.54739\n",
      "[85]\tvalidation_0-error:0.13424\tvalidation_0-logloss:0.35757\tvalidation_1-error:0.34773\tvalidation_1-logloss:0.54768\n",
      "[86]\tvalidation_0-error:0.13355\tvalidation_0-logloss:0.35594\tvalidation_1-error:0.34773\tvalidation_1-logloss:0.54816\n",
      "[87]\tvalidation_0-error:0.13128\tvalidation_0-logloss:0.35480\tvalidation_1-error:0.34955\tvalidation_1-logloss:0.54817\n",
      "[88]\tvalidation_0-error:0.13117\tvalidation_0-logloss:0.35465\tvalidation_1-error:0.35000\tvalidation_1-logloss:0.54838\n",
      "[89]\tvalidation_0-error:0.13026\tvalidation_0-logloss:0.35392\tvalidation_1-error:0.35182\tvalidation_1-logloss:0.54850\n",
      "[90]\tvalidation_0-error:0.12923\tvalidation_0-logloss:0.35308\tvalidation_1-error:0.35136\tvalidation_1-logloss:0.54877\n",
      "[91]\tvalidation_0-error:0.12889\tvalidation_0-logloss:0.35248\tvalidation_1-error:0.35045\tvalidation_1-logloss:0.54916\n",
      "[92]\tvalidation_0-error:0.12798\tvalidation_0-logloss:0.35237\tvalidation_1-error:0.35182\tvalidation_1-logloss:0.54953\n",
      "[93]\tvalidation_0-error:0.12662\tvalidation_0-logloss:0.35084\tvalidation_1-error:0.35182\tvalidation_1-logloss:0.54996\n",
      "[94]\tvalidation_0-error:0.12389\tvalidation_0-logloss:0.34781\tvalidation_1-error:0.35227\tvalidation_1-logloss:0.55164\n",
      "[95]\tvalidation_0-error:0.12344\tvalidation_0-logloss:0.34754\tvalidation_1-error:0.35227\tvalidation_1-logloss:0.55123\n",
      "[96]\tvalidation_0-error:0.12321\tvalidation_0-logloss:0.34698\tvalidation_1-error:0.35227\tvalidation_1-logloss:0.55164\n",
      "[97]\tvalidation_0-error:0.12321\tvalidation_0-logloss:0.34652\tvalidation_1-error:0.35091\tvalidation_1-logloss:0.55168\n",
      "[98]\tvalidation_0-error:0.12128\tvalidation_0-logloss:0.34468\tvalidation_1-error:0.34864\tvalidation_1-logloss:0.55201\n",
      "[99]\tvalidation_0-error:0.12048\tvalidation_0-logloss:0.34386\tvalidation_1-error:0.34818\tvalidation_1-logloss:0.55217\n"
     ]
    },
    {
     "data": {
      "text/plain": "XGBClassifier(base_score=None, booster=None, callbacks=None,\n              colsample_bylevel=None, colsample_bynode=None,\n              colsample_bytree=None, early_stopping_rounds=None,\n              enable_categorical=False, eval_metric=['error', 'logloss'],\n              feature_types=None, gamma=None, gpu_id=None, grow_policy=None,\n              importance_type=None, interaction_constraints=None,\n              learning_rate=None, max_bin=None, max_cat_threshold=None,\n              max_cat_to_onehot=None, max_delta_step=None, max_depth=None,\n              max_leaves=None, min_child_weight=None, missing=nan,\n              monotone_constraints=None, n_estimators=100, n_jobs=None,\n              num_parallel_tree=None, predictor=None, random_state=42, ...)"
     },
     "execution_count": 26,
     "metadata": {},
     "output_type": "execute_result"
    }
   ],
   "source": [
    "xg_model = XGBClassifier(objective='binary:logistic', random_state=42, eval_metric=['error', 'logloss'])\n",
    "\n",
    "eval_set = [(X_train, y_train), (X_test, y_test)]\n",
    "xg_model.fit(X_train, y_train, eval_set=eval_set, verbose=True)"
   ],
   "metadata": {
    "collapsed": false
   }
  },
  {
   "cell_type": "code",
   "execution_count": 27,
   "outputs": [],
   "source": [
    "results = xg_model.evals_result()\n",
    "epochs = len(results['validation_0']['error'])\n",
    "x_axis = range(0, epochs)"
   ],
   "metadata": {
    "collapsed": false
   }
  },
  {
   "cell_type": "code",
   "execution_count": 28,
   "outputs": [
    {
     "data": {
      "text/plain": "<Figure size 640x480 with 1 Axes>",
      "image/png": "[encoded data removed]"
     },
     "metadata": {},
     "output_type": "display_data"
    }
   ],
   "source": [
    "#plot log loss\n",
    "fig, ax = plt.subplots()\n",
    "ax.plot(x_axis, results['validation_0']['logloss'], label='Train')\n",
    "ax.plot(x_axis, results['validation_1']['logloss'], label='Test')\n",
    "ax.legend()\n",
    "plt.ylabel('Log Loss')\n",
    "plt.title('XGBoost Log Loss')\n",
    "plt.show()"
   ],
   "metadata": {
    "collapsed": false
   }
  },
  {
   "cell_type": "code",
   "execution_count": 29,
   "outputs": [
    {
     "data": {
      "text/plain": "<Figure size 640x480 with 1 Axes>",
      "image/png": "[encoded data removed]"
     },
     "metadata": {},
     "output_type": "display_data"
    }
   ],
   "source": [
    "#plot classification error\n",
    "fig, ax = plt.subplots()\n",
    "ax.plot(x_axis, results['validation_0']['error'], label='Train')\n",
    "ax.plot(x_axis, results['validation_1']['error'], label='Test')\n",
    "ax.legend()\n",
    "plt.ylabel('Classification Error')\n",
    "plt.title('XGBoost Classification Error')\n",
    "plt.show()"
   ],
   "metadata": {
    "collapsed": false
   }
  },
  {
   "cell_type": "code",
   "execution_count": 30,
   "outputs": [
    {
     "name": "stdout",
     "output_type": "stream",
     "text": [
      "[0]\tvalidation_0-logloss:0.62236\n",
      "[1]\tvalidation_0-logloss:0.58412\n",
      "[2]\tvalidation_0-logloss:0.56101\n",
      "[3]\tvalidation_0-logloss:0.54594\n",
      "[4]\tvalidation_0-logloss:0.53502\n",
      "[5]\tvalidation_0-logloss:0.52837\n",
      "[6]\tvalidation_0-logloss:0.52395\n",
      "[7]\tvalidation_0-logloss:0.52098\n",
      "[8]\tvalidation_0-logloss:0.51842\n",
      "[9]\tvalidation_0-logloss:0.51695\n",
      "[10]\tvalidation_0-logloss:0.51656\n",
      "[11]\tvalidation_0-logloss:0.51592\n",
      "[12]\tvalidation_0-logloss:0.51511\n",
      "[13]\tvalidation_0-logloss:0.51498\n",
      "[14]\tvalidation_0-logloss:0.51456\n",
      "[15]\tvalidation_0-logloss:0.51488\n",
      "[16]\tvalidation_0-logloss:0.51477\n",
      "[17]\tvalidation_0-logloss:0.51487\n",
      "[18]\tvalidation_0-logloss:0.51492\n",
      "[19]\tvalidation_0-logloss:0.51532\n",
      "[20]\tvalidation_0-logloss:0.51580\n",
      "[21]\tvalidation_0-logloss:0.51527\n",
      "[22]\tvalidation_0-logloss:0.51599\n",
      "[23]\tvalidation_0-logloss:0.51640\n",
      "[24]\tvalidation_0-logloss:0.51652\n",
      "[25]\tvalidation_0-logloss:0.51710\n",
      "[26]\tvalidation_0-logloss:0.51772\n",
      "[27]\tvalidation_0-logloss:0.51809\n",
      "[28]\tvalidation_0-logloss:0.51891\n",
      "[29]\tvalidation_0-logloss:0.52034\n",
      "[30]\tvalidation_0-logloss:0.52052\n",
      "[31]\tvalidation_0-logloss:0.52182\n",
      "[32]\tvalidation_0-logloss:0.52355\n",
      "[33]\tvalidation_0-logloss:0.52366\n"
     ]
    },
    {
     "name": "stderr",
     "output_type": "stream",
     "text": [
      "C:\\Users\\Junior\\anaconda3\\lib\\site-packages\\xgboost\\sklearn.py:835: UserWarning: `early_stopping_rounds` in `fit` method is deprecated for better compatibility with scikit-learn, use `early_stopping_rounds` in constructor or`set_params` instead.\n",
      "  warnings.warn(\n"
     ]
    },
    {
     "data": {
      "text/plain": "XGBClassifier(base_score=None, booster=None, callbacks=None,\n              colsample_bylevel=None, colsample_bynode=None,\n              colsample_bytree=None, early_stopping_rounds=None,\n              enable_categorical=False, eval_metric='logloss',\n              feature_types=None, gamma=None, gpu_id=None, grow_policy=None,\n              importance_type=None, interaction_constraints=None,\n              learning_rate=None, max_bin=None, max_cat_threshold=None,\n              max_cat_to_onehot=None, max_delta_step=None, max_depth=None,\n              max_leaves=None, min_child_weight=None, missing=nan,\n              monotone_constraints=None, n_estimators=100, n_jobs=None,\n              num_parallel_tree=None, predictor=None, random_state=42, ...)"
     },
     "execution_count": 30,
     "metadata": {},
     "output_type": "execute_result"
    }
   ],
   "source": [
    "xg_model = XGBClassifier(objective='binary:logistic', random_state=42, eval_metric= 'logloss')\n",
    "eval_set = [(X_test, y_test)]\n",
    "xg_model.fit(X_train, y_train, early_stopping_rounds=20, eval_set=eval_set, verbose=True)"
   ],
   "metadata": {
    "collapsed": false
   }
  },
  {
   "cell_type": "code",
   "execution_count": 31,
   "outputs": [
    {
     "name": "stdout",
     "output_type": "stream",
     "text": [
      "Accuracy: 65.73%\n"
     ]
    }
   ],
   "source": [
    "xg_pred = xg_model.predict(X_test)\n",
    "predictions = [round(value) for value in xg_pred]\n",
    "accuracy = accuracy_score(y_test, predictions)\n",
    "print(\"Accuracy: %.2f%%\" % (accuracy * 100))"
   ],
   "metadata": {
    "collapsed": false
   }
  },
  {
   "cell_type": "markdown",
   "source": [
    "### Can we tune XG model to increase our accuracy?"
   ],
   "metadata": {
    "collapsed": false
   }
  },
  {
   "cell_type": "code",
   "execution_count": 32,
   "outputs": [
    {
     "name": "stdout",
     "output_type": "stream",
     "text": [
      "[0]\tvalidation_0-logloss:0.67953\n",
      "[1]\tvalidation_0-logloss:0.66737\n",
      "[2]\tvalidation_0-logloss:0.65611\n",
      "[3]\tvalidation_0-logloss:0.64600\n",
      "[4]\tvalidation_0-logloss:0.63684\n",
      "[5]\tvalidation_0-logloss:0.62823\n",
      "[6]\tvalidation_0-logloss:0.62052\n",
      "[7]\tvalidation_0-logloss:0.61326\n",
      "[8]\tvalidation_0-logloss:0.60658\n",
      "[9]\tvalidation_0-logloss:0.60053\n",
      "[10]\tvalidation_0-logloss:0.59485\n",
      "[11]\tvalidation_0-logloss:0.58959\n",
      "[12]\tvalidation_0-logloss:0.58466\n",
      "[13]\tvalidation_0-logloss:0.58019\n",
      "[14]\tvalidation_0-logloss:0.57598\n",
      "[15]\tvalidation_0-logloss:0.57197\n",
      "[16]\tvalidation_0-logloss:0.56833\n",
      "[17]\tvalidation_0-logloss:0.56484\n",
      "[18]\tvalidation_0-logloss:0.56173\n",
      "[19]\tvalidation_0-logloss:0.55869\n",
      "[20]\tvalidation_0-logloss:0.55574\n",
      "[21]\tvalidation_0-logloss:0.55313\n",
      "[22]\tvalidation_0-logloss:0.55077\n",
      "[23]\tvalidation_0-logloss:0.54829\n",
      "[24]\tvalidation_0-logloss:0.54594\n",
      "[25]\tvalidation_0-logloss:0.54386\n",
      "[26]\tvalidation_0-logloss:0.54181\n",
      "[27]\tvalidation_0-logloss:0.53993\n",
      "[28]\tvalidation_0-logloss:0.53819\n",
      "[29]\tvalidation_0-logloss:0.53653\n",
      "[30]\tvalidation_0-logloss:0.53495\n",
      "[31]\tvalidation_0-logloss:0.53348\n",
      "[32]\tvalidation_0-logloss:0.53196\n",
      "[33]\tvalidation_0-logloss:0.53064\n",
      "[34]\tvalidation_0-logloss:0.52943\n",
      "[35]\tvalidation_0-logloss:0.52833\n",
      "[36]\tvalidation_0-logloss:0.52724\n",
      "[37]\tvalidation_0-logloss:0.52615\n",
      "[38]\tvalidation_0-logloss:0.52525\n",
      "[39]\tvalidation_0-logloss:0.52435\n",
      "[40]\tvalidation_0-logloss:0.52356\n",
      "[41]\tvalidation_0-logloss:0.52288\n",
      "[42]\tvalidation_0-logloss:0.52210\n",
      "[43]\tvalidation_0-logloss:0.52135\n",
      "[44]\tvalidation_0-logloss:0.52062\n",
      "[45]\tvalidation_0-logloss:0.51996\n",
      "[46]\tvalidation_0-logloss:0.51932\n",
      "[47]\tvalidation_0-logloss:0.51878\n",
      "[48]\tvalidation_0-logloss:0.51814\n",
      "[49]\tvalidation_0-logloss:0.51769\n",
      "[50]\tvalidation_0-logloss:0.51712\n",
      "[51]\tvalidation_0-logloss:0.51663\n",
      "[52]\tvalidation_0-logloss:0.51630\n",
      "[53]\tvalidation_0-logloss:0.51590\n",
      "[54]\tvalidation_0-logloss:0.51566\n",
      "[55]\tvalidation_0-logloss:0.51523\n",
      "[56]\tvalidation_0-logloss:0.51481\n",
      "[57]\tvalidation_0-logloss:0.51444\n",
      "[58]\tvalidation_0-logloss:0.51431\n",
      "[59]\tvalidation_0-logloss:0.51408\n",
      "[60]\tvalidation_0-logloss:0.51371\n",
      "[61]\tvalidation_0-logloss:0.51337\n",
      "[62]\tvalidation_0-logloss:0.51305\n",
      "[63]\tvalidation_0-logloss:0.51279\n",
      "[64]\tvalidation_0-logloss:0.51258\n",
      "[65]\tvalidation_0-logloss:0.51250\n",
      "[66]\tvalidation_0-logloss:0.51224\n",
      "[67]\tvalidation_0-logloss:0.51205\n",
      "[68]\tvalidation_0-logloss:0.51178\n",
      "[69]\tvalidation_0-logloss:0.51156\n",
      "[70]\tvalidation_0-logloss:0.51139\n",
      "[71]\tvalidation_0-logloss:0.51139\n",
      "[72]\tvalidation_0-logloss:0.51126\n",
      "[73]\tvalidation_0-logloss:0.51117\n",
      "[74]\tvalidation_0-logloss:0.51106\n",
      "[75]\tvalidation_0-logloss:0.51096\n",
      "[76]\tvalidation_0-logloss:0.51081\n",
      "[77]\tvalidation_0-logloss:0.51066\n",
      "[78]\tvalidation_0-logloss:0.51054\n",
      "[79]\tvalidation_0-logloss:0.51049\n",
      "[80]\tvalidation_0-logloss:0.51037\n",
      "[81]\tvalidation_0-logloss:0.51026\n",
      "[82]\tvalidation_0-logloss:0.51022\n",
      "[83]\tvalidation_0-logloss:0.51023\n",
      "[84]\tvalidation_0-logloss:0.51018\n",
      "[85]\tvalidation_0-logloss:0.51029\n",
      "[86]\tvalidation_0-logloss:0.51015\n",
      "[87]\tvalidation_0-logloss:0.51014\n",
      "[88]\tvalidation_0-logloss:0.51013\n",
      "[89]\tvalidation_0-logloss:0.51006\n",
      "[90]\tvalidation_0-logloss:0.51007\n",
      "[91]\tvalidation_0-logloss:0.51004\n",
      "[92]\tvalidation_0-logloss:0.50995\n",
      "[93]\tvalidation_0-logloss:0.50988\n",
      "[94]\tvalidation_0-logloss:0.50999\n",
      "[95]\tvalidation_0-logloss:0.51008\n",
      "[96]\tvalidation_0-logloss:0.50996\n",
      "[97]\tvalidation_0-logloss:0.50990\n",
      "[98]\tvalidation_0-logloss:0.50987\n",
      "[99]\tvalidation_0-logloss:0.50987\n",
      "[100]\tvalidation_0-logloss:0.50989\n",
      "[101]\tvalidation_0-logloss:0.50987\n",
      "[102]\tvalidation_0-logloss:0.50996\n",
      "[103]\tvalidation_0-logloss:0.50990\n",
      "[104]\tvalidation_0-logloss:0.50981\n",
      "[105]\tvalidation_0-logloss:0.50971\n",
      "[106]\tvalidation_0-logloss:0.50974\n",
      "[107]\tvalidation_0-logloss:0.50966\n",
      "[108]\tvalidation_0-logloss:0.50960\n",
      "[109]\tvalidation_0-logloss:0.50959\n",
      "[110]\tvalidation_0-logloss:0.50949\n",
      "[111]\tvalidation_0-logloss:0.50948\n",
      "[112]\tvalidation_0-logloss:0.50961\n",
      "[113]\tvalidation_0-logloss:0.50971\n",
      "[114]\tvalidation_0-logloss:0.50975\n",
      "[115]\tvalidation_0-logloss:0.50968\n",
      "[116]\tvalidation_0-logloss:0.50967\n",
      "[117]\tvalidation_0-logloss:0.50957\n",
      "[118]\tvalidation_0-logloss:0.50951\n",
      "[119]\tvalidation_0-logloss:0.50951\n",
      "[120]\tvalidation_0-logloss:0.50947\n",
      "[121]\tvalidation_0-logloss:0.50947\n",
      "[122]\tvalidation_0-logloss:0.50955\n",
      "[123]\tvalidation_0-logloss:0.50964\n",
      "[124]\tvalidation_0-logloss:0.50982\n",
      "[125]\tvalidation_0-logloss:0.50980\n",
      "[126]\tvalidation_0-logloss:0.50978\n",
      "[127]\tvalidation_0-logloss:0.50970\n",
      "[128]\tvalidation_0-logloss:0.50969\n",
      "[129]\tvalidation_0-logloss:0.50970\n",
      "[130]\tvalidation_0-logloss:0.50963\n",
      "[131]\tvalidation_0-logloss:0.50963\n",
      "[132]\tvalidation_0-logloss:0.50982\n",
      "[133]\tvalidation_0-logloss:0.50989\n",
      "[134]\tvalidation_0-logloss:0.50981\n",
      "[135]\tvalidation_0-logloss:0.50990\n",
      "[136]\tvalidation_0-logloss:0.50990\n",
      "[137]\tvalidation_0-logloss:0.50984\n",
      "[138]\tvalidation_0-logloss:0.50995\n",
      "[139]\tvalidation_0-logloss:0.51001\n",
      "[140]\tvalidation_0-logloss:0.51002\n"
     ]
    },
    {
     "data": {
      "text/plain": "XGBClassifier(base_score=None, booster=None, callbacks=None,\n              colsample_bylevel=None, colsample_bynode=None,\n              colsample_bytree=None, early_stopping_rounds=20,\n              enable_categorical=False, eval_metric=None, feature_types=None,\n              gamma=None, gpu_id=None, grow_policy=None, importance_type=None,\n              interaction_constraints=None, learning_rate=0.05, max_bin=None,\n              max_cat_threshold=None, max_cat_to_onehot=None,\n              max_delta_step=None, max_depth=None, max_leaves=None,\n              min_child_weight=None, missing=nan, monotone_constraints=None,\n              n_estimators=1000, n_jobs=4, num_parallel_tree=None,\n              predictor=None, random_state=42, ...)"
     },
     "execution_count": 32,
     "metadata": {},
     "output_type": "execute_result"
    }
   ],
   "source": [
    "#xg_tune = XGBClassifier(n_estimators=1000, learning_rate=0.05, n_jobs=4)\n",
    "xg_tune = XGBClassifier(objective='binary:logistic', random_state=42, early_stopping_rounds=20, n_estimators=1000, learning_rate=0.05, n_jobs=4)\n",
    "xg_tune.fit(X_train, y_train,eval_set=eval_set, verbose=True)"
   ],
   "metadata": {
    "collapsed": false
   }
  },
  {
   "cell_type": "code",
   "execution_count": 33,
   "outputs": [
    {
     "name": "stdout",
     "output_type": "stream",
     "text": [
      "Accuracy: 67.05%\n"
     ]
    }
   ],
   "source": [
    "xg_tune_pred = xg_tune.predict(X_test)\n",
    "predictions = [round(value) for value in xg_tune_pred]\n",
    "accuracy = accuracy_score(y_test, predictions)\n",
    "print(\"Accuracy: %.2f%%\" % (accuracy * 100))"
   ],
   "metadata": {
    "collapsed": false
   }
  },
  {
   "cell_type": "code",
   "execution_count": 34,
   "outputs": [],
   "source": [
    "import eli5\n",
    "from eli5.sklearn import PermutationImportance"
   ],
   "metadata": {
    "collapsed": false
   }
  },
  {
   "cell_type": "code",
   "execution_count": 35,
   "outputs": [
    {
     "data": {
      "text/plain": "<IPython.core.display.HTML object>",
      "text/html": "\n    <style>\n    table.eli5-weights tr:hover {\n        filter: brightness(85%);\n    }\n</style>\n\n\n\n    \n\n    \n\n    \n\n    \n\n    \n\n    \n\n\n    \n\n    \n\n    \n\n    \n\n    \n\n    \n\n\n    \n\n    \n\n    \n\n    \n\n    \n        <table class=\"eli5-weights eli5-feature-importances\" style=\"border-collapse: collapse; border: none; margin-top: 0em; table-layout: auto;\">\n    <thead>\n    <tr style=\"border: none;\">\n        <th style=\"padding: 0 1em 0 0.5em; text-align: right; border: none;\">Weight</th>\n        <th style=\"padding: 0 0.5em 0 0.5em; text-align: left; border: none;\">Feature</th>\n    </tr>\n    </thead>\n    <tbody>\n    \n        <tr style=\"background-color: hsl(120, 100.00%, 80.00%); border: none;\">\n            <td style=\"padding: 0 1em 0 0.5em; text-align: right; border: none;\">\n                0.0435\n                \n                    &plusmn; 0.0256\n                \n            </td>\n            <td style=\"padding: 0 0.5em 0 0.5em; text-align: left; border: none;\">\n                Weight_in_gms\n            </td>\n        </tr>\n    \n        <tr style=\"background-color: hsl(120, 100.00%, 84.44%); border: none;\">\n            <td style=\"padding: 0 1em 0 0.5em; text-align: right; border: none;\">\n                0.0304\n                \n                    &plusmn; 0.0161\n                \n            </td>\n            <td style=\"padding: 0 0.5em 0 0.5em; text-align: left; border: none;\">\n                Discount_offered\n            </td>\n        </tr>\n    \n        <tr style=\"background-color: hsl(120, 100.00%, 93.26%); border: none;\">\n            <td style=\"padding: 0 1em 0 0.5em; text-align: right; border: none;\">\n                0.0092\n                \n                    &plusmn; 0.0063\n                \n            </td>\n            <td style=\"padding: 0 0.5em 0 0.5em; text-align: left; border: none;\">\n                Customer_care_calls\n            </td>\n        </tr>\n    \n        <tr style=\"background-color: hsl(120, 100.00%, 95.54%); border: none;\">\n            <td style=\"padding: 0 1em 0 0.5em; text-align: right; border: none;\">\n                0.0051\n                \n                    &plusmn; 0.0046\n                \n            </td>\n            <td style=\"padding: 0 0.5em 0 0.5em; text-align: left; border: none;\">\n                Prior_purchases\n            </td>\n        </tr>\n    \n        <tr style=\"background-color: hsl(120, 100.00%, 96.79%); border: none;\">\n            <td style=\"padding: 0 1em 0 0.5em; text-align: right; border: none;\">\n                0.0032\n                \n                    &plusmn; 0.0040\n                \n            </td>\n            <td style=\"padding: 0 0.5em 0 0.5em; text-align: left; border: none;\">\n                Customer_rating\n            </td>\n        </tr>\n    \n        <tr style=\"background-color: hsl(120, 100.00%, 98.31%); border: none;\">\n            <td style=\"padding: 0 1em 0 0.5em; text-align: right; border: none;\">\n                0.0013\n                \n                    &plusmn; 0.0017\n                \n            </td>\n            <td style=\"padding: 0 0.5em 0 0.5em; text-align: left; border: none;\">\n                Warehouse_block_C\n            </td>\n        </tr>\n    \n        <tr style=\"background-color: hsl(120, 100.00%, 98.40%); border: none;\">\n            <td style=\"padding: 0 1em 0 0.5em; text-align: right; border: none;\">\n                0.0012\n                \n                    &plusmn; 0.0021\n                \n            </td>\n            <td style=\"padding: 0 0.5em 0 0.5em; text-align: left; border: none;\">\n                Product_importance_high\n            </td>\n        </tr>\n    \n        <tr style=\"background-color: hsl(120, 100.00%, 99.57%); border: none;\">\n            <td style=\"padding: 0 1em 0 0.5em; text-align: right; border: none;\">\n                0.0002\n                \n                    &plusmn; 0.0019\n                \n            </td>\n            <td style=\"padding: 0 0.5em 0 0.5em; text-align: left; border: none;\">\n                Warehouse_block_A\n            </td>\n        </tr>\n    \n        <tr style=\"background-color: hsl(0, 100.00%, 100.00%); border: none;\">\n            <td style=\"padding: 0 1em 0 0.5em; text-align: right; border: none;\">\n                0\n                \n                    &plusmn; 0.0000\n                \n            </td>\n            <td style=\"padding: 0 0.5em 0 0.5em; text-align: left; border: none;\">\n                Gender_M\n            </td>\n        </tr>\n    \n        <tr style=\"background-color: hsl(0, 100.00%, 100.00%); border: none;\">\n            <td style=\"padding: 0 1em 0 0.5em; text-align: right; border: none;\">\n                -0.0000\n                \n                    &plusmn; 0.0010\n                \n            </td>\n            <td style=\"padding: 0 0.5em 0 0.5em; text-align: left; border: none;\">\n                Product_importance_low\n            </td>\n        </tr>\n    \n        <tr style=\"background-color: hsl(0, 100.00%, 99.73%); border: none;\">\n            <td style=\"padding: 0 1em 0 0.5em; text-align: right; border: none;\">\n                -0.0001\n                \n                    &plusmn; 0.0020\n                \n            </td>\n            <td style=\"padding: 0 0.5em 0 0.5em; text-align: left; border: none;\">\n                Product_importance_medium\n            </td>\n        </tr>\n    \n        <tr style=\"background-color: hsl(0, 100.00%, 99.57%); border: none;\">\n            <td style=\"padding: 0 1em 0 0.5em; text-align: right; border: none;\">\n                -0.0002\n                \n                    &plusmn; 0.0009\n                \n            </td>\n            <td style=\"padding: 0 0.5em 0 0.5em; text-align: left; border: none;\">\n                Mode_of_Shipment_Flight\n            </td>\n        </tr>\n    \n        <tr style=\"background-color: hsl(0, 100.00%, 99.57%); border: none;\">\n            <td style=\"padding: 0 1em 0 0.5em; text-align: right; border: none;\">\n                -0.0002\n                \n                    &plusmn; 0.0026\n                \n            </td>\n            <td style=\"padding: 0 0.5em 0 0.5em; text-align: left; border: none;\">\n                Mode_of_Shipment_Road\n            </td>\n        </tr>\n    \n        <tr style=\"background-color: hsl(0, 100.00%, 99.18%); border: none;\">\n            <td style=\"padding: 0 1em 0 0.5em; text-align: right; border: none;\">\n                -0.0005\n                \n                    &plusmn; 0.0030\n                \n            </td>\n            <td style=\"padding: 0 0.5em 0 0.5em; text-align: left; border: none;\">\n                Warehouse_block_F\n            </td>\n        </tr>\n    \n        <tr style=\"background-color: hsl(0, 100.00%, 98.86%); border: none;\">\n            <td style=\"padding: 0 1em 0 0.5em; text-align: right; border: none;\">\n                -0.0007\n                \n                    &plusmn; 0.0044\n                \n            </td>\n            <td style=\"padding: 0 0.5em 0 0.5em; text-align: left; border: none;\">\n                Warehouse_block_D\n            </td>\n        </tr>\n    \n        <tr style=\"background-color: hsl(0, 100.00%, 98.57%); border: none;\">\n            <td style=\"padding: 0 1em 0 0.5em; text-align: right; border: none;\">\n                -0.0010\n                \n                    &plusmn; 0.0032\n                \n            </td>\n            <td style=\"padding: 0 0.5em 0 0.5em; text-align: left; border: none;\">\n                Gender_F\n            </td>\n        </tr>\n    \n        <tr style=\"background-color: hsl(0, 100.00%, 98.06%); border: none;\">\n            <td style=\"padding: 0 1em 0 0.5em; text-align: right; border: none;\">\n                -0.0015\n                \n                    &plusmn; 0.0030\n                \n            </td>\n            <td style=\"padding: 0 0.5em 0 0.5em; text-align: left; border: none;\">\n                Warehouse_block_B\n            </td>\n        </tr>\n    \n        <tr style=\"background-color: hsl(0, 100.00%, 97.83%); border: none;\">\n            <td style=\"padding: 0 1em 0 0.5em; text-align: right; border: none;\">\n                -0.0018\n                \n                    &plusmn; 0.0039\n                \n            </td>\n            <td style=\"padding: 0 0.5em 0 0.5em; text-align: left; border: none;\">\n                Mode_of_Shipment_Ship\n            </td>\n        </tr>\n    \n    \n    </tbody>\n</table>\n    \n\n    \n\n\n    \n\n    \n\n    \n\n    \n\n    \n\n    \n\n\n\n"
     },
     "execution_count": 35,
     "metadata": {},
     "output_type": "execute_result"
    }
   ],
   "source": [
    "perm = PermutationImportance(xg_tune, random_state=42).fit(X_test, y_test)\n",
    "eli5.show_weights(perm, feature_names=X_test.columns.tolist())"
   ],
   "metadata": {
    "collapsed": false
   }
  },
  {
   "cell_type": "markdown",
   "source": [
    "## Random Search Cross Validation"
   ],
   "metadata": {
    "collapsed": false
   }
  },
  {
   "cell_type": "code",
   "execution_count": 36,
   "outputs": [
    {
     "data": {
      "text/plain": "{'objective': 'binary:logistic',\n 'use_label_encoder': None,\n 'base_score': None,\n 'booster': None,\n 'callbacks': None,\n 'colsample_bylevel': None,\n 'colsample_bynode': None,\n 'colsample_bytree': None,\n 'early_stopping_rounds': None,\n 'enable_categorical': False,\n 'eval_metric': 'logloss',\n 'feature_types': None,\n 'gamma': None,\n 'gpu_id': None,\n 'grow_policy': None,\n 'importance_type': None,\n 'interaction_constraints': None,\n 'learning_rate': None,\n 'max_bin': None,\n 'max_cat_threshold': None,\n 'max_cat_to_onehot': None,\n 'max_delta_step': None,\n 'max_depth': None,\n 'max_leaves': None,\n 'min_child_weight': None,\n 'missing': nan,\n 'monotone_constraints': None,\n 'n_estimators': 100,\n 'n_jobs': None,\n 'num_parallel_tree': None,\n 'predictor': None,\n 'random_state': 42,\n 'reg_alpha': None,\n 'reg_lambda': None,\n 'sampling_method': None,\n 'scale_pos_weight': None,\n 'subsample': None,\n 'tree_method': None,\n 'validate_parameters': None,\n 'verbosity': None}"
     },
     "execution_count": 36,
     "metadata": {},
     "output_type": "execute_result"
    }
   ],
   "source": [
    "# XGBoost parameters currently in use\n",
    "xg_model.get_params()"
   ],
   "metadata": {
    "collapsed": false
   }
  },
  {
   "cell_type": "code",
   "execution_count": 37,
   "outputs": [
    {
     "name": "stdout",
     "output_type": "stream",
     "text": [
      "{'n_estimators': [0.0001, 0.001, 0.01, 0.1, 1], 'max_depth': range(3, 21, 3), 'gamma': [0.0, 0.1, 0.2, 0.3, 0.4], 'colsample_bytree': [0.3, 0.4, 0.5, 0.6, 0.7, 0.8, 0.9], 'reg_alpha': [1e-05, 0.01, 0.1, 1, 10, 100], 'reg_lambda': [1e-05, 0.01, 0.1, 1, 10, 100]}\n"
     ]
    }
   ],
   "source": [
    "from sklearn.model_selection import RandomizedSearchCV, StratifiedKFold\n",
    "\n",
    "n_estimators = [0.0001, 0.001, 0.01, 0.1, 1]\n",
    "max_depth = range(3,21,3)\n",
    "#max_depth = [int(x) for x in np.linspace(10, 110, num=11)]\n",
    "#max_depth.append(None)\n",
    "#max_depth = range(3,21,3)\n",
    "gamma = [i/10.0 for i in range(0,5)]\n",
    "colsample_bytree = [i/10.0 for i in range(3,10)]\n",
    "reg_alpha = [0.00001, 0.01, 0.1, 1, 10, 100]\n",
    "reg_lambda = [0.00001, 0.01, 0.1, 1, 10, 100]\n",
    "#min_samples_split = [2, 5, 10]\n",
    "#min_samples_leaf = [1, 2, 4]\n",
    "#bootstrap = [True, False]\n",
    "\n",
    "random_grid = {'n_estimators': n_estimators,\n",
    "               'max_depth': max_depth,\n",
    "               'gamma': gamma,\n",
    "               'colsample_bytree': colsample_bytree,\n",
    "               'reg_alpha': reg_alpha,\n",
    "               'reg_lambda': reg_lambda\n",
    "               }\n",
    "#scoring = ['recall']\n",
    "kfold = StratifiedKFold(n_splits=3, shuffle=True, random_state=0)\n",
    "print(random_grid)\n"
   ],
   "metadata": {
    "collapsed": false
   }
  },
  {
   "cell_type": "code",
   "execution_count": 38,
   "outputs": [
    {
     "ename": "TypeError",
     "evalue": "'float' object cannot be interpreted as an integer",
     "output_type": "error",
     "traceback": [
      "\u001B[1;31m---------------------------------------------------------------------------\u001B[0m",
      "\u001B[1;31m_RemoteTraceback\u001B[0m                          Traceback (most recent call last)",
      "\u001B[1;31m_RemoteTraceback\u001B[0m: \n\"\"\"\nTraceback (most recent call last):\n  File \"C:\\Users\\Junior\\anaconda3\\lib\\site-packages\\joblib\\externals\\loky\\process_executor.py\", line 436, in _process_worker\n    r = call_item()\n  File \"C:\\Users\\Junior\\anaconda3\\lib\\site-packages\\joblib\\externals\\loky\\process_executor.py\", line 288, in __call__\n    return self.fn(*self.args, **self.kwargs)\n  File \"C:\\Users\\Junior\\anaconda3\\lib\\site-packages\\joblib\\_parallel_backends.py\", line 595, in __call__\n    return self.func(*args, **kwargs)\n  File \"C:\\Users\\Junior\\anaconda3\\lib\\site-packages\\joblib\\parallel.py\", line 262, in __call__\n    return [func(*args, **kwargs)\n  File \"C:\\Users\\Junior\\anaconda3\\lib\\site-packages\\joblib\\parallel.py\", line 262, in <listcomp>\n    return [func(*args, **kwargs)\n  File \"C:\\Users\\Junior\\anaconda3\\lib\\site-packages\\sklearn\\utils\\fixes.py\", line 216, in __call__\n    return self.function(*args, **kwargs)\n  File \"C:\\Users\\Junior\\anaconda3\\lib\\site-packages\\sklearn\\model_selection\\_validation.py\", line 680, in _fit_and_score\n    estimator.fit(X_train, y_train, **fit_params)\n  File \"C:\\Users\\Junior\\anaconda3\\lib\\site-packages\\xgboost\\core.py\", line 620, in inner_f\n    return func(**kwargs)\n  File \"C:\\Users\\Junior\\anaconda3\\lib\\site-packages\\xgboost\\sklearn.py\", line 1490, in fit\n    self._Booster = train(\n  File \"C:\\Users\\Junior\\anaconda3\\lib\\site-packages\\xgboost\\core.py\", line 620, in inner_f\n    return func(**kwargs)\n  File \"C:\\Users\\Junior\\anaconda3\\lib\\site-packages\\xgboost\\training.py\", line 182, in train\n    for i in range(start_iteration, num_boost_round):\nTypeError: 'float' object cannot be interpreted as an integer\n\"\"\"",
      "\nThe above exception was the direct cause of the following exception:\n",
      "\u001B[1;31mTypeError\u001B[0m                                 Traceback (most recent call last)",
      "\u001B[1;32m~\\AppData\\Local\\Temp\\ipykernel_29528\\74383132.py\u001B[0m in \u001B[0;36m<module>\u001B[1;34m\u001B[0m\n\u001B[0;32m      1\u001B[0m \u001B[0mxg_random\u001B[0m \u001B[1;33m=\u001B[0m \u001B[0mRandomizedSearchCV\u001B[0m\u001B[1;33m(\u001B[0m\u001B[0mestimator\u001B[0m\u001B[1;33m=\u001B[0m\u001B[0mxg_model\u001B[0m\u001B[1;33m,\u001B[0m \u001B[0mparam_distributions\u001B[0m\u001B[1;33m=\u001B[0m\u001B[0mrandom_grid\u001B[0m\u001B[1;33m,\u001B[0m \u001B[0mn_iter\u001B[0m\u001B[1;33m=\u001B[0m\u001B[1;36m100\u001B[0m\u001B[1;33m,\u001B[0m \u001B[0mcv\u001B[0m\u001B[1;33m=\u001B[0m\u001B[1;36m3\u001B[0m\u001B[1;33m,\u001B[0m \u001B[0mverbose\u001B[0m\u001B[1;33m=\u001B[0m\u001B[1;36m0\u001B[0m\u001B[1;33m,\u001B[0m \u001B[0mrandom_state\u001B[0m\u001B[1;33m=\u001B[0m\u001B[1;36m42\u001B[0m\u001B[1;33m,\u001B[0m \u001B[0mn_jobs\u001B[0m\u001B[1;33m=\u001B[0m\u001B[1;33m-\u001B[0m\u001B[1;36m1\u001B[0m\u001B[1;33m,\u001B[0m \u001B[0merror_score\u001B[0m\u001B[1;33m=\u001B[0m\u001B[1;34m'raise'\u001B[0m\u001B[1;33m)\u001B[0m\u001B[1;33m\u001B[0m\u001B[1;33m\u001B[0m\u001B[0m\n\u001B[1;32m----> 2\u001B[1;33m \u001B[0mxg_random\u001B[0m\u001B[1;33m.\u001B[0m\u001B[0mfit\u001B[0m\u001B[1;33m(\u001B[0m\u001B[0mX_train\u001B[0m\u001B[1;33m,\u001B[0m \u001B[0my_train\u001B[0m\u001B[1;33m)\u001B[0m\u001B[1;33m\u001B[0m\u001B[1;33m\u001B[0m\u001B[0m\n\u001B[0m",
      "\u001B[1;32m~\\anaconda3\\lib\\site-packages\\sklearn\\model_selection\\_search.py\u001B[0m in \u001B[0;36mfit\u001B[1;34m(self, X, y, groups, **fit_params)\u001B[0m\n\u001B[0;32m    889\u001B[0m                 \u001B[1;32mreturn\u001B[0m \u001B[0mresults\u001B[0m\u001B[1;33m\u001B[0m\u001B[1;33m\u001B[0m\u001B[0m\n\u001B[0;32m    890\u001B[0m \u001B[1;33m\u001B[0m\u001B[0m\n\u001B[1;32m--> 891\u001B[1;33m             \u001B[0mself\u001B[0m\u001B[1;33m.\u001B[0m\u001B[0m_run_search\u001B[0m\u001B[1;33m(\u001B[0m\u001B[0mevaluate_candidates\u001B[0m\u001B[1;33m)\u001B[0m\u001B[1;33m\u001B[0m\u001B[1;33m\u001B[0m\u001B[0m\n\u001B[0m\u001B[0;32m    892\u001B[0m \u001B[1;33m\u001B[0m\u001B[0m\n\u001B[0;32m    893\u001B[0m             \u001B[1;31m# multimetric is determined here because in the case of a callable\u001B[0m\u001B[1;33m\u001B[0m\u001B[1;33m\u001B[0m\u001B[0m\n",
      "\u001B[1;32m~\\anaconda3\\lib\\site-packages\\sklearn\\model_selection\\_search.py\u001B[0m in \u001B[0;36m_run_search\u001B[1;34m(self, evaluate_candidates)\u001B[0m\n\u001B[0;32m   1764\u001B[0m     \u001B[1;32mdef\u001B[0m \u001B[0m_run_search\u001B[0m\u001B[1;33m(\u001B[0m\u001B[0mself\u001B[0m\u001B[1;33m,\u001B[0m \u001B[0mevaluate_candidates\u001B[0m\u001B[1;33m)\u001B[0m\u001B[1;33m:\u001B[0m\u001B[1;33m\u001B[0m\u001B[1;33m\u001B[0m\u001B[0m\n\u001B[0;32m   1765\u001B[0m         \u001B[1;34m\"\"\"Search n_iter candidates from param_distributions\"\"\"\u001B[0m\u001B[1;33m\u001B[0m\u001B[1;33m\u001B[0m\u001B[0m\n\u001B[1;32m-> 1766\u001B[1;33m         evaluate_candidates(\n\u001B[0m\u001B[0;32m   1767\u001B[0m             ParameterSampler(\n\u001B[0;32m   1768\u001B[0m                 \u001B[0mself\u001B[0m\u001B[1;33m.\u001B[0m\u001B[0mparam_distributions\u001B[0m\u001B[1;33m,\u001B[0m \u001B[0mself\u001B[0m\u001B[1;33m.\u001B[0m\u001B[0mn_iter\u001B[0m\u001B[1;33m,\u001B[0m \u001B[0mrandom_state\u001B[0m\u001B[1;33m=\u001B[0m\u001B[0mself\u001B[0m\u001B[1;33m.\u001B[0m\u001B[0mrandom_state\u001B[0m\u001B[1;33m\u001B[0m\u001B[1;33m\u001B[0m\u001B[0m\n",
      "\u001B[1;32m~\\anaconda3\\lib\\site-packages\\sklearn\\model_selection\\_search.py\u001B[0m in \u001B[0;36mevaluate_candidates\u001B[1;34m(candidate_params, cv, more_results)\u001B[0m\n\u001B[0;32m    836\u001B[0m                     )\n\u001B[0;32m    837\u001B[0m \u001B[1;33m\u001B[0m\u001B[0m\n\u001B[1;32m--> 838\u001B[1;33m                 out = parallel(\n\u001B[0m\u001B[0;32m    839\u001B[0m                     delayed(_fit_and_score)(\n\u001B[0;32m    840\u001B[0m                         \u001B[0mclone\u001B[0m\u001B[1;33m(\u001B[0m\u001B[0mbase_estimator\u001B[0m\u001B[1;33m)\u001B[0m\u001B[1;33m,\u001B[0m\u001B[1;33m\u001B[0m\u001B[1;33m\u001B[0m\u001B[0m\n",
      "\u001B[1;32m~\\anaconda3\\lib\\site-packages\\joblib\\parallel.py\u001B[0m in \u001B[0;36m__call__\u001B[1;34m(self, iterable)\u001B[0m\n\u001B[0;32m   1054\u001B[0m \u001B[1;33m\u001B[0m\u001B[0m\n\u001B[0;32m   1055\u001B[0m             \u001B[1;32mwith\u001B[0m \u001B[0mself\u001B[0m\u001B[1;33m.\u001B[0m\u001B[0m_backend\u001B[0m\u001B[1;33m.\u001B[0m\u001B[0mretrieval_context\u001B[0m\u001B[1;33m(\u001B[0m\u001B[1;33m)\u001B[0m\u001B[1;33m:\u001B[0m\u001B[1;33m\u001B[0m\u001B[1;33m\u001B[0m\u001B[0m\n\u001B[1;32m-> 1056\u001B[1;33m                 \u001B[0mself\u001B[0m\u001B[1;33m.\u001B[0m\u001B[0mretrieve\u001B[0m\u001B[1;33m(\u001B[0m\u001B[1;33m)\u001B[0m\u001B[1;33m\u001B[0m\u001B[1;33m\u001B[0m\u001B[0m\n\u001B[0m\u001B[0;32m   1057\u001B[0m             \u001B[1;31m# Make sure that we get a last message telling us we are done\u001B[0m\u001B[1;33m\u001B[0m\u001B[1;33m\u001B[0m\u001B[0m\n\u001B[0;32m   1058\u001B[0m             \u001B[0melapsed_time\u001B[0m \u001B[1;33m=\u001B[0m \u001B[0mtime\u001B[0m\u001B[1;33m.\u001B[0m\u001B[0mtime\u001B[0m\u001B[1;33m(\u001B[0m\u001B[1;33m)\u001B[0m \u001B[1;33m-\u001B[0m \u001B[0mself\u001B[0m\u001B[1;33m.\u001B[0m\u001B[0m_start_time\u001B[0m\u001B[1;33m\u001B[0m\u001B[1;33m\u001B[0m\u001B[0m\n",
      "\u001B[1;32m~\\anaconda3\\lib\\site-packages\\joblib\\parallel.py\u001B[0m in \u001B[0;36mretrieve\u001B[1;34m(self)\u001B[0m\n\u001B[0;32m    933\u001B[0m             \u001B[1;32mtry\u001B[0m\u001B[1;33m:\u001B[0m\u001B[1;33m\u001B[0m\u001B[1;33m\u001B[0m\u001B[0m\n\u001B[0;32m    934\u001B[0m                 \u001B[1;32mif\u001B[0m \u001B[0mgetattr\u001B[0m\u001B[1;33m(\u001B[0m\u001B[0mself\u001B[0m\u001B[1;33m.\u001B[0m\u001B[0m_backend\u001B[0m\u001B[1;33m,\u001B[0m \u001B[1;34m'supports_timeout'\u001B[0m\u001B[1;33m,\u001B[0m \u001B[1;32mFalse\u001B[0m\u001B[1;33m)\u001B[0m\u001B[1;33m:\u001B[0m\u001B[1;33m\u001B[0m\u001B[1;33m\u001B[0m\u001B[0m\n\u001B[1;32m--> 935\u001B[1;33m                     \u001B[0mself\u001B[0m\u001B[1;33m.\u001B[0m\u001B[0m_output\u001B[0m\u001B[1;33m.\u001B[0m\u001B[0mextend\u001B[0m\u001B[1;33m(\u001B[0m\u001B[0mjob\u001B[0m\u001B[1;33m.\u001B[0m\u001B[0mget\u001B[0m\u001B[1;33m(\u001B[0m\u001B[0mtimeout\u001B[0m\u001B[1;33m=\u001B[0m\u001B[0mself\u001B[0m\u001B[1;33m.\u001B[0m\u001B[0mtimeout\u001B[0m\u001B[1;33m)\u001B[0m\u001B[1;33m)\u001B[0m\u001B[1;33m\u001B[0m\u001B[1;33m\u001B[0m\u001B[0m\n\u001B[0m\u001B[0;32m    936\u001B[0m                 \u001B[1;32melse\u001B[0m\u001B[1;33m:\u001B[0m\u001B[1;33m\u001B[0m\u001B[1;33m\u001B[0m\u001B[0m\n\u001B[0;32m    937\u001B[0m                     \u001B[0mself\u001B[0m\u001B[1;33m.\u001B[0m\u001B[0m_output\u001B[0m\u001B[1;33m.\u001B[0m\u001B[0mextend\u001B[0m\u001B[1;33m(\u001B[0m\u001B[0mjob\u001B[0m\u001B[1;33m.\u001B[0m\u001B[0mget\u001B[0m\u001B[1;33m(\u001B[0m\u001B[1;33m)\u001B[0m\u001B[1;33m)\u001B[0m\u001B[1;33m\u001B[0m\u001B[1;33m\u001B[0m\u001B[0m\n",
      "\u001B[1;32m~\\anaconda3\\lib\\site-packages\\joblib\\_parallel_backends.py\u001B[0m in \u001B[0;36mwrap_future_result\u001B[1;34m(future, timeout)\u001B[0m\n\u001B[0;32m    540\u001B[0m         AsyncResults.get from multiprocessing.\"\"\"\n\u001B[0;32m    541\u001B[0m         \u001B[1;32mtry\u001B[0m\u001B[1;33m:\u001B[0m\u001B[1;33m\u001B[0m\u001B[1;33m\u001B[0m\u001B[0m\n\u001B[1;32m--> 542\u001B[1;33m             \u001B[1;32mreturn\u001B[0m \u001B[0mfuture\u001B[0m\u001B[1;33m.\u001B[0m\u001B[0mresult\u001B[0m\u001B[1;33m(\u001B[0m\u001B[0mtimeout\u001B[0m\u001B[1;33m=\u001B[0m\u001B[0mtimeout\u001B[0m\u001B[1;33m)\u001B[0m\u001B[1;33m\u001B[0m\u001B[1;33m\u001B[0m\u001B[0m\n\u001B[0m\u001B[0;32m    543\u001B[0m         \u001B[1;32mexcept\u001B[0m \u001B[0mCfTimeoutError\u001B[0m \u001B[1;32mas\u001B[0m \u001B[0me\u001B[0m\u001B[1;33m:\u001B[0m\u001B[1;33m\u001B[0m\u001B[1;33m\u001B[0m\u001B[0m\n\u001B[0;32m    544\u001B[0m             \u001B[1;32mraise\u001B[0m \u001B[0mTimeoutError\u001B[0m \u001B[1;32mfrom\u001B[0m \u001B[0me\u001B[0m\u001B[1;33m\u001B[0m\u001B[1;33m\u001B[0m\u001B[0m\n",
      "\u001B[1;32m~\\anaconda3\\lib\\concurrent\\futures\\_base.py\u001B[0m in \u001B[0;36mresult\u001B[1;34m(self, timeout)\u001B[0m\n\u001B[0;32m    444\u001B[0m                     \u001B[1;32mraise\u001B[0m \u001B[0mCancelledError\u001B[0m\u001B[1;33m(\u001B[0m\u001B[1;33m)\u001B[0m\u001B[1;33m\u001B[0m\u001B[1;33m\u001B[0m\u001B[0m\n\u001B[0;32m    445\u001B[0m                 \u001B[1;32melif\u001B[0m \u001B[0mself\u001B[0m\u001B[1;33m.\u001B[0m\u001B[0m_state\u001B[0m \u001B[1;33m==\u001B[0m \u001B[0mFINISHED\u001B[0m\u001B[1;33m:\u001B[0m\u001B[1;33m\u001B[0m\u001B[1;33m\u001B[0m\u001B[0m\n\u001B[1;32m--> 446\u001B[1;33m                     \u001B[1;32mreturn\u001B[0m \u001B[0mself\u001B[0m\u001B[1;33m.\u001B[0m\u001B[0m__get_result\u001B[0m\u001B[1;33m(\u001B[0m\u001B[1;33m)\u001B[0m\u001B[1;33m\u001B[0m\u001B[1;33m\u001B[0m\u001B[0m\n\u001B[0m\u001B[0;32m    447\u001B[0m                 \u001B[1;32melse\u001B[0m\u001B[1;33m:\u001B[0m\u001B[1;33m\u001B[0m\u001B[1;33m\u001B[0m\u001B[0m\n\u001B[0;32m    448\u001B[0m                     \u001B[1;32mraise\u001B[0m \u001B[0mTimeoutError\u001B[0m\u001B[1;33m(\u001B[0m\u001B[1;33m)\u001B[0m\u001B[1;33m\u001B[0m\u001B[1;33m\u001B[0m\u001B[0m\n",
      "\u001B[1;32m~\\anaconda3\\lib\\concurrent\\futures\\_base.py\u001B[0m in \u001B[0;36m__get_result\u001B[1;34m(self)\u001B[0m\n\u001B[0;32m    389\u001B[0m         \u001B[1;32mif\u001B[0m \u001B[0mself\u001B[0m\u001B[1;33m.\u001B[0m\u001B[0m_exception\u001B[0m\u001B[1;33m:\u001B[0m\u001B[1;33m\u001B[0m\u001B[1;33m\u001B[0m\u001B[0m\n\u001B[0;32m    390\u001B[0m             \u001B[1;32mtry\u001B[0m\u001B[1;33m:\u001B[0m\u001B[1;33m\u001B[0m\u001B[1;33m\u001B[0m\u001B[0m\n\u001B[1;32m--> 391\u001B[1;33m                 \u001B[1;32mraise\u001B[0m \u001B[0mself\u001B[0m\u001B[1;33m.\u001B[0m\u001B[0m_exception\u001B[0m\u001B[1;33m\u001B[0m\u001B[1;33m\u001B[0m\u001B[0m\n\u001B[0m\u001B[0;32m    392\u001B[0m             \u001B[1;32mfinally\u001B[0m\u001B[1;33m:\u001B[0m\u001B[1;33m\u001B[0m\u001B[1;33m\u001B[0m\u001B[0m\n\u001B[0;32m    393\u001B[0m                 \u001B[1;31m# Break a reference cycle with the exception in self._exception\u001B[0m\u001B[1;33m\u001B[0m\u001B[1;33m\u001B[0m\u001B[0m\n",
      "\u001B[1;31mTypeError\u001B[0m: 'float' object cannot be interpreted as an integer"
     ]
    }
   ],
   "source": [
    "xg_random = RandomizedSearchCV(estimator=xg_model, param_distributions=random_grid, n_iter=100, cv=3, verbose=0, random_state=42, n_jobs=-1, error_score='raise')\n",
    "xg_random.fit(X_train, y_train)"
   ],
   "metadata": {
    "collapsed": false
   }
  },
  {
   "cell_type": "code",
   "execution_count": null,
   "outputs": [],
   "source": [],
   "metadata": {
    "collapsed": false
   }
  },
  {
   "cell_type": "code",
   "execution_count": 39,
   "outputs": [
    {
     "ename": "AttributeError",
     "evalue": "'RandomizedSearchCV' object has no attribute 'best_params_'",
     "output_type": "error",
     "traceback": [
      "\u001B[1;31m---------------------------------------------------------------------------\u001B[0m",
      "\u001B[1;31mAttributeError\u001B[0m                            Traceback (most recent call last)",
      "\u001B[1;32m~\\AppData\\Local\\Temp\\ipykernel_29528\\2974536069.py\u001B[0m in \u001B[0;36m<module>\u001B[1;34m\u001B[0m\n\u001B[1;32m----> 1\u001B[1;33m \u001B[0mxg_random\u001B[0m\u001B[1;33m.\u001B[0m\u001B[0mbest_params_\u001B[0m\u001B[1;33m\u001B[0m\u001B[1;33m\u001B[0m\u001B[0m\n\u001B[0m",
      "\u001B[1;31mAttributeError\u001B[0m: 'RandomizedSearchCV' object has no attribute 'best_params_'"
     ]
    }
   ],
   "source": [
    "xg_random.best_params_"
   ],
   "metadata": {
    "collapsed": false
   }
  },
  {
   "cell_type": "code",
   "execution_count": 40,
   "outputs": [
    {
     "data": {
      "text/plain": "RandomizedSearchCV(cv=3, error_score='raise',\n                   estimator=XGBClassifier(base_score=None, booster=None,\n                                           callbacks=None,\n                                           colsample_bylevel=None,\n                                           colsample_bynode=None,\n                                           colsample_bytree=None,\n                                           early_stopping_rounds=None,\n                                           enable_categorical=False,\n                                           eval_metric='logloss',\n                                           feature_types=None, gamma=None,\n                                           gpu_id=None, grow_policy=None,\n                                           importance_type=None,\n                                           interaction_const...\n                                           n_estimators=100, n_jobs=None,\n                                           num_parallel_tree=None,\n                                           predictor=None, random_state=42, ...),\n                   n_iter=100, n_jobs=-1,\n                   param_distributions={'colsample_bytree': [0.3, 0.4, 0.5, 0.6,\n                                                             0.7, 0.8, 0.9],\n                                        'gamma': [0.0, 0.1, 0.2, 0.3, 0.4],\n                                        'max_depth': range(3, 21, 3),\n                                        'n_estimators': [0.0001, 0.001, 0.01,\n                                                         0.1, 1],\n                                        'reg_alpha': [1e-05, 0.01, 0.1, 1, 10,\n                                                      100],\n                                        'reg_lambda': [1e-05, 0.01, 0.1, 1, 10,\n                                                       100]},\n                   random_state=42)"
     },
     "execution_count": 40,
     "metadata": {},
     "output_type": "execute_result"
    }
   ],
   "source": [
    "xg_random"
   ],
   "metadata": {
    "collapsed": false
   }
  },
  {
   "cell_type": "code",
   "execution_count": 41,
   "outputs": [
    {
     "ename": "AttributeError",
     "evalue": "'RandomizedSearchCV' object has no attribute 'best_score_'",
     "output_type": "error",
     "traceback": [
      "\u001B[1;31m---------------------------------------------------------------------------\u001B[0m",
      "\u001B[1;31mAttributeError\u001B[0m                            Traceback (most recent call last)",
      "\u001B[1;32m~\\AppData\\Local\\Temp\\ipykernel_29528\\2963421151.py\u001B[0m in \u001B[0;36m<module>\u001B[1;34m\u001B[0m\n\u001B[1;32m----> 1\u001B[1;33m \u001B[0mxg_random\u001B[0m\u001B[1;33m.\u001B[0m\u001B[0mbest_score_\u001B[0m\u001B[1;33m\u001B[0m\u001B[1;33m\u001B[0m\u001B[0m\n\u001B[0m",
      "\u001B[1;31mAttributeError\u001B[0m: 'RandomizedSearchCV' object has no attribute 'best_score_'"
     ]
    }
   ],
   "source": [
    "xg_random.best_score_"
   ],
   "metadata": {
    "collapsed": false
   }
  },
  {
   "cell_type": "code",
   "execution_count": 42,
   "outputs": [
    {
     "ename": "NotFittedError",
     "evalue": "This RandomizedSearchCV instance is not fitted yet. Call 'fit' with appropriate arguments before using this estimator.",
     "output_type": "error",
     "traceback": [
      "\u001B[1;31m---------------------------------------------------------------------------\u001B[0m",
      "\u001B[1;31mNotFittedError\u001B[0m                            Traceback (most recent call last)",
      "\u001B[1;32m~\\AppData\\Local\\Temp\\ipykernel_29528\\3205447327.py\u001B[0m in \u001B[0;36m<module>\u001B[1;34m\u001B[0m\n\u001B[1;32m----> 1\u001B[1;33m \u001B[0mxg_random_pred\u001B[0m \u001B[1;33m=\u001B[0m \u001B[0mxg_random\u001B[0m\u001B[1;33m.\u001B[0m\u001B[0mpredict\u001B[0m\u001B[1;33m(\u001B[0m\u001B[0mX_test\u001B[0m\u001B[1;33m)\u001B[0m\u001B[1;33m\u001B[0m\u001B[1;33m\u001B[0m\u001B[0m\n\u001B[0m\u001B[0;32m      2\u001B[0m \u001B[0mpredictions\u001B[0m \u001B[1;33m=\u001B[0m \u001B[1;33m[\u001B[0m\u001B[0mround\u001B[0m\u001B[1;33m(\u001B[0m\u001B[0mvalue\u001B[0m\u001B[1;33m)\u001B[0m \u001B[1;32mfor\u001B[0m \u001B[0mvalue\u001B[0m \u001B[1;32min\u001B[0m \u001B[0mxg_random_pred\u001B[0m\u001B[1;33m]\u001B[0m\u001B[1;33m\u001B[0m\u001B[1;33m\u001B[0m\u001B[0m\n\u001B[0;32m      3\u001B[0m \u001B[0maccuracy\u001B[0m \u001B[1;33m=\u001B[0m \u001B[0maccuracy_score\u001B[0m\u001B[1;33m(\u001B[0m\u001B[0my_test\u001B[0m\u001B[1;33m,\u001B[0m \u001B[0mpredictions\u001B[0m\u001B[1;33m)\u001B[0m\u001B[1;33m\u001B[0m\u001B[1;33m\u001B[0m\u001B[0m\n\u001B[0;32m      4\u001B[0m \u001B[0mprint\u001B[0m\u001B[1;33m(\u001B[0m\u001B[1;34m\"Accuracy: %.2f%%\"\u001B[0m \u001B[1;33m%\u001B[0m \u001B[1;33m(\u001B[0m\u001B[0maccuracy\u001B[0m \u001B[1;33m*\u001B[0m \u001B[1;36m100\u001B[0m\u001B[1;33m)\u001B[0m\u001B[1;33m)\u001B[0m\u001B[1;33m\u001B[0m\u001B[1;33m\u001B[0m\u001B[0m\n",
      "\u001B[1;32m~\\anaconda3\\lib\\site-packages\\sklearn\\utils\\metaestimators.py\u001B[0m in \u001B[0;36m<lambda>\u001B[1;34m(*args, **kwargs)\u001B[0m\n\u001B[0;32m    111\u001B[0m \u001B[1;33m\u001B[0m\u001B[0m\n\u001B[0;32m    112\u001B[0m             \u001B[1;31m# lambda, but not partial, allows help() to work with update_wrapper\u001B[0m\u001B[1;33m\u001B[0m\u001B[1;33m\u001B[0m\u001B[0m\n\u001B[1;32m--> 113\u001B[1;33m             \u001B[0mout\u001B[0m \u001B[1;33m=\u001B[0m \u001B[1;32mlambda\u001B[0m \u001B[1;33m*\u001B[0m\u001B[0margs\u001B[0m\u001B[1;33m,\u001B[0m \u001B[1;33m**\u001B[0m\u001B[0mkwargs\u001B[0m\u001B[1;33m:\u001B[0m \u001B[0mself\u001B[0m\u001B[1;33m.\u001B[0m\u001B[0mfn\u001B[0m\u001B[1;33m(\u001B[0m\u001B[0mobj\u001B[0m\u001B[1;33m,\u001B[0m \u001B[1;33m*\u001B[0m\u001B[0margs\u001B[0m\u001B[1;33m,\u001B[0m \u001B[1;33m**\u001B[0m\u001B[0mkwargs\u001B[0m\u001B[1;33m)\u001B[0m  \u001B[1;31m# noqa\u001B[0m\u001B[1;33m\u001B[0m\u001B[1;33m\u001B[0m\u001B[0m\n\u001B[0m\u001B[0;32m    114\u001B[0m         \u001B[1;32melse\u001B[0m\u001B[1;33m:\u001B[0m\u001B[1;33m\u001B[0m\u001B[1;33m\u001B[0m\u001B[0m\n\u001B[0;32m    115\u001B[0m \u001B[1;33m\u001B[0m\u001B[0m\n",
      "\u001B[1;32m~\\anaconda3\\lib\\site-packages\\sklearn\\model_selection\\_search.py\u001B[0m in \u001B[0;36mpredict\u001B[1;34m(self, X)\u001B[0m\n\u001B[0;32m    518\u001B[0m             \u001B[0mthe\u001B[0m \u001B[0mbest\u001B[0m \u001B[0mfound\u001B[0m \u001B[0mparameters\u001B[0m\u001B[1;33m.\u001B[0m\u001B[1;33m\u001B[0m\u001B[1;33m\u001B[0m\u001B[0m\n\u001B[0;32m    519\u001B[0m         \"\"\"\n\u001B[1;32m--> 520\u001B[1;33m         \u001B[0mcheck_is_fitted\u001B[0m\u001B[1;33m(\u001B[0m\u001B[0mself\u001B[0m\u001B[1;33m)\u001B[0m\u001B[1;33m\u001B[0m\u001B[1;33m\u001B[0m\u001B[0m\n\u001B[0m\u001B[0;32m    521\u001B[0m         \u001B[1;32mreturn\u001B[0m \u001B[0mself\u001B[0m\u001B[1;33m.\u001B[0m\u001B[0mbest_estimator_\u001B[0m\u001B[1;33m.\u001B[0m\u001B[0mpredict\u001B[0m\u001B[1;33m(\u001B[0m\u001B[0mX\u001B[0m\u001B[1;33m)\u001B[0m\u001B[1;33m\u001B[0m\u001B[1;33m\u001B[0m\u001B[0m\n\u001B[0;32m    522\u001B[0m \u001B[1;33m\u001B[0m\u001B[0m\n",
      "\u001B[1;32m~\\anaconda3\\lib\\site-packages\\sklearn\\utils\\validation.py\u001B[0m in \u001B[0;36mcheck_is_fitted\u001B[1;34m(estimator, attributes, msg, all_or_any)\u001B[0m\n\u001B[0;32m   1220\u001B[0m \u001B[1;33m\u001B[0m\u001B[0m\n\u001B[0;32m   1221\u001B[0m     \u001B[1;32mif\u001B[0m \u001B[1;32mnot\u001B[0m \u001B[0mfitted\u001B[0m\u001B[1;33m:\u001B[0m\u001B[1;33m\u001B[0m\u001B[1;33m\u001B[0m\u001B[0m\n\u001B[1;32m-> 1222\u001B[1;33m         \u001B[1;32mraise\u001B[0m \u001B[0mNotFittedError\u001B[0m\u001B[1;33m(\u001B[0m\u001B[0mmsg\u001B[0m \u001B[1;33m%\u001B[0m \u001B[1;33m{\u001B[0m\u001B[1;34m\"name\"\u001B[0m\u001B[1;33m:\u001B[0m \u001B[0mtype\u001B[0m\u001B[1;33m(\u001B[0m\u001B[0mestimator\u001B[0m\u001B[1;33m)\u001B[0m\u001B[1;33m.\u001B[0m\u001B[0m__name__\u001B[0m\u001B[1;33m}\u001B[0m\u001B[1;33m)\u001B[0m\u001B[1;33m\u001B[0m\u001B[1;33m\u001B[0m\u001B[0m\n\u001B[0m\u001B[0;32m   1223\u001B[0m \u001B[1;33m\u001B[0m\u001B[0m\n\u001B[0;32m   1224\u001B[0m \u001B[1;33m\u001B[0m\u001B[0m\n",
      "\u001B[1;31mNotFittedError\u001B[0m: This RandomizedSearchCV instance is not fitted yet. Call 'fit' with appropriate arguments before using this estimator."
     ]
    }
   ],
   "source": [
    "xg_random_pred = xg_random.predict(X_test)\n",
    "predictions = [round(value) for value in xg_random_pred]\n",
    "accuracy = accuracy_score(y_test, predictions)\n",
    "print(\"Accuracy: %.2f%%\" % (accuracy * 100))"
   ],
   "metadata": {
    "collapsed": false
   }
  },
  {
   "cell_type": "markdown",
   "source": [
    "## Grid Search Cross Validation"
   ],
   "metadata": {
    "collapsed": false
   }
  },
  {
   "cell_type": "code",
   "execution_count": 43,
   "outputs": [],
   "source": [
    "param_grid = {\n",
    "    'colsample_bytree': [0.3, 0.5, 0.8],\n",
    "    'reg_alpha': [0, 0.5, 1, 5],\n",
    "    'reg_lambda': [0, 0.5, 1, 5]\n",
    "}"
   ],
   "metadata": {
    "collapsed": false
   }
  },
  {
   "cell_type": "code",
   "execution_count": 44,
   "outputs": [],
   "source": [
    "from sklearn.model_selection import GridSearchCV\n",
    "grid_search = GridSearchCV(estimator=xg_model, param_grid=param_grid, n_jobs=-1, cv=kfold, verbose=0)\n",
    "grid_result = grid_search.fit(X_train, y_train)"
   ],
   "metadata": {
    "collapsed": false
   }
  },
  {
   "cell_type": "code",
   "execution_count": 45,
   "outputs": [
    {
     "data": {
      "text/plain": "GridSearchCV(cv=StratifiedKFold(n_splits=3, random_state=0, shuffle=True),\n             estimator=XGBClassifier(base_score=None, booster=None,\n                                     callbacks=None, colsample_bylevel=None,\n                                     colsample_bynode=None,\n                                     colsample_bytree=None,\n                                     early_stopping_rounds=None,\n                                     enable_categorical=False,\n                                     eval_metric='logloss', feature_types=None,\n                                     gamma=None, gpu_id=None, grow_policy=None,\n                                     importance...\n                                     max_cat_threshold=None,\n                                     max_cat_to_onehot=None,\n                                     max_delta_step=None, max_depth=None,\n                                     max_leaves=None, min_child_weight=None,\n                                     missing=nan, monotone_constraints=None,\n                                     n_estimators=100, n_jobs=None,\n                                     num_parallel_tree=None, predictor=None,\n                                     random_state=42, ...),\n             n_jobs=-1,\n             param_grid={'colsample_bytree': [0.3, 0.5, 0.8],\n                         'reg_alpha': [0, 0.5, 1, 5],\n                         'reg_lambda': [0, 0.5, 1, 5]})"
     },
     "execution_count": 45,
     "metadata": {},
     "output_type": "execute_result"
    }
   ],
   "source": [
    "grid_result"
   ],
   "metadata": {
    "collapsed": false
   }
  },
  {
   "cell_type": "code",
   "execution_count": 46,
   "outputs": [
    {
     "data": {
      "text/plain": "{'colsample_bytree': 0.5, 'reg_alpha': 5, 'reg_lambda': 5}"
     },
     "execution_count": 46,
     "metadata": {},
     "output_type": "execute_result"
    }
   ],
   "source": [
    "grid_result.best_params_"
   ],
   "metadata": {
    "collapsed": false
   }
  },
  {
   "cell_type": "code",
   "execution_count": 47,
   "outputs": [
    {
     "data": {
      "text/plain": "0.6650377841212577"
     },
     "execution_count": 47,
     "metadata": {},
     "output_type": "execute_result"
    }
   ],
   "source": [
    "grid_result.best_score_"
   ],
   "metadata": {
    "collapsed": false
   }
  },
  {
   "cell_type": "code",
   "execution_count": 48,
   "outputs": [
    {
     "name": "stdout",
     "output_type": "stream",
     "text": [
      "Accuracy: 66.18%\n"
     ]
    }
   ],
   "source": [
    "xg_gs_pred = grid_result.predict(X_test)\n",
    "predictions = [round(value) for value in xg_gs_pred]\n",
    "accuracy = accuracy_score(y_test, predictions)\n",
    "print(\"Accuracy: %.2f%%\" % (accuracy * 100))"
   ],
   "metadata": {
    "collapsed": false
   }
  },
  {
   "cell_type": "code",
   "execution_count": null,
   "outputs": [],
   "source": [],
   "metadata": {
    "collapsed": false
   }
  }
 ],
 "metadata": {
  "kernelspec": {
   "display_name": "Python 3",
   "language": "python",
   "name": "python3"
  },
  "language_info": {
   "codemirror_mode": {
    "name": "ipython",
    "version": 2
   },
   "file_extension": ".py",
   "mimetype": "text/x-python",
   "name": "python",
   "nbconvert_exporter": "python",
   "pygments_lexer": "ipython2",
   "version": "2.7.6"
  }
 },
 "nbformat": 4,
 "nbformat_minor": 0
}
